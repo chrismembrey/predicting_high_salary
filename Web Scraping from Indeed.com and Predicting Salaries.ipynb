{
 "cells": [
  {
   "cell_type": "markdown",
   "metadata": {
    "focus": false,
    "id": "69b9a648-bcc7-490d-9f9b-ea244d156bd6"
   },
   "source": [
    "\n",
    "# Web Scraping from Indeed.com and Predicting Salaries"
   ]
  },
  {
   "cell_type": "markdown",
   "metadata": {},
   "source": [
    "### Business Case Overview\n",
    "\n",
    "<b>Point of View</b>: You're working as a data scientist for a contracting firm that's rapidly expanding. The firm need to leverage data to win more contracts. Your firm offers technology and scientific solutions and wants to be competitive in the hiring market. Your manager wants you to determine the industry factors that are most important in predicting the salary amounts for data scientists/research scietists.\n",
    "\n",
    "\n",
    "Aggregators like [Indeed.com](https://www.indeed.com) regularly pool job postings from a variety of markets and industries.\n",
    "\n",
    "\n"
   ]
  },
  {
   "cell_type": "markdown",
   "metadata": {},
   "source": [
    "### Factors that impact salary\n",
    "\n",
    "Here we just want to estimate which factors (like location, job title/job level) lead to high or low salary and work with a classification model. To do so, I will split the salary into two groups of high and low salary, for example by choosing the median salary as a threshold (in principle I could choose any single or multiple splitting points).\n",
    "\n",
    "I will use all the skills I have learned so far on the General Assembley Data Science Immersive to build a predictive model.\n"
   ]
  },
  {
   "cell_type": "markdown",
   "metadata": {},
   "source": [
    "<b> Import Packages </b>"
   ]
  },
  {
   "cell_type": "code",
   "execution_count": 6,
   "metadata": {
    "focus": false,
    "id": "2efefc73-064a-482d-b3b5-ddf5508cb4ec"
   },
   "outputs": [],
   "source": [
    "import requests\n",
    "import bs4\n",
    "from bs4 import BeautifulSoup\n",
    "import numpy as np\n",
    "import pandas as pd\n",
    "import re\n",
    "import seaborn as sns\n",
    "import matplotlib.pyplot as plt"
   ]
  },
  {
   "cell_type": "markdown",
   "metadata": {
    "focus": false,
    "id": "a948d79c-5527-4c0d-ab23-f5d43ce72056"
   },
   "source": [
    "# Scraping job listings from Indeed.com"
   ]
  },
  {
   "cell_type": "markdown",
   "metadata": {
    "focus": true,
    "id": "7203e0c9-e437-4802-a6ad-7dc464f94436"
   },
   "source": [
    "We will be scraping job listings from Indeed.com using BeautifulSoup. Luckily, Indeed.com is a simple text page where we can easily find relevant entries.\n",
    "\n",
    "First, look at the source of an Indeed.com page: (http://www.indeed.com/jobs?q=data+scientist+%2420%2C000&l=New+York&start=10\").\n"
   ]
  },
  {
   "cell_type": "markdown",
   "metadata": {
    "focus": false,
    "id": "9732c901-ae26-4160-8376-42e22dd327df"
   },
   "source": [
    "#### Setup a request (using `requests`) to the URL below. Use BeautifulSoup to parse the page and extract all results \n",
    "\n",
    "The URL here has many query parameters:\n",
    "\n",
    "- `q` for the job search\n",
    "- `l` for a location \n",
    "- `start` for what result number to start on"
   ]
  },
  {
   "cell_type": "code",
   "execution_count": null,
   "metadata": {
    "focus": false,
    "id": "e915023e-6b0d-4982-af2a-b1e0355f4927"
   },
   "outputs": [],
   "source": [
    "URL = \"https://uk.indeed.com/jobs?q=data+scientist&l=London\""
   ]
  },
  {
   "cell_type": "code",
   "execution_count": null,
   "metadata": {},
   "outputs": [],
   "source": [
    "#attempted to change my vpn to avoid the captcha page\n",
    "import requests\n",
    "import random\n",
    "user_agent_list = [\n",
    "    'Mozilla/5.0 (Macintosh; Intel Mac OS X 10_15_5) AppleWebKit/605.1.15 (KHTML, like Gecko) Version/13.1.1 Safari/605.1.15',\n",
    "    'Mozilla/5.0 (Windows NT 10.0; Win64; x64; rv:77.0) Gecko/20100101 Firefox/77.0',\n",
    "    'Mozilla/5.0 (Macintosh; Intel Mac OS X 10_15_5) AppleWebKit/537.36 (KHTML, like Gecko) Chrome/83.0.4103.97 Safari/537.36',\n",
    "    'Mozilla/5.0 (Macintosh; Intel Mac OS X 10.15; rv:77.0) Gecko/20100101 Firefox/77.0',\n",
    "    'Mozilla/5.0 (Windows NT 10.0; Win64; x64) AppleWebKit/537.36 (KHTML, like Gecko) Chrome/83.0.4103.97 Safari/537.36',\n",
    "]\n",
    "url = 'https://uk.indeed.com/jobs?q=data+scientist&l=Cambridge'\n"
   ]
  },
  {
   "cell_type": "code",
   "execution_count": null,
   "metadata": {
    "focus": false,
    "id": "2c6752c4-7704-4c94-8bc0-6f13d2d0d570"
   },
   "outputs": [],
   "source": [
    "for i in range(1,2):\n",
    "    #Pick a random user agent\n",
    "    user_agent = random.choice(user_agent_list)\n",
    "    #Set the headers \n",
    "    headers = {'User-Agent': user_agent}\n",
    "    #Make the request\n",
    "    response = requests.get(url,headers=headers)\n",
    "    web = requests.get(URL)\n",
    "    soup = BeautifulSoup(web.text, 'html.parser')\n",
    "    print(soup)"
   ]
  },
  {
   "cell_type": "markdown",
   "metadata": {},
   "source": [
    "Read in the html with Beautiful Soup"
   ]
  },
  {
   "cell_type": "code",
   "execution_count": null,
   "metadata": {},
   "outputs": [],
   "source": [
    "soup = BeautifulSoup(html,'html.parser')\n",
    "soup"
   ]
  },
  {
   "cell_type": "markdown",
   "metadata": {
    "focus": false,
    "id": "bb0b866a-26a7-45e9-8084-5a0f90eb4b3e"
   },
   "source": [
    "A single `result` looks like\n",
    "\n",
    "```\n",
    "<div class=\" row result\" data-jk=\"2480d203f7e97210\" data-tn-component=\"organicJob\" id=\"p_2480d203f7e97210\" itemscope=\"\" itemtype=\"http://schema.org/JobPosting\">\n",
    "<h2 class=\"jobtitle\" id=\"jl_2480d203f7e97210\">\n",
    "<a class=\"turnstileLink\" data-tn-element=\"jobTitle\" onmousedown=\"return rclk(this,jobmap[0],1);\" rel=\"nofollow\" target=\"_blank\" title=\"AVP/Quantitative Analyst\">AVP/Quantitative Analyst</a>\n",
    "</h2>\n",
    "<span class=\"company\" itemprop=\"hiringOrganization\" itemtype=\"http://schema.org/Organization\">\n",
    "<span itemprop=\"name\">\n",
    "<a href=\"/cmp/Alliancebernstein?from=SERP&amp;campaignid=serp-linkcompanyname&amp;fromjk=2480d203f7e97210&amp;jcid=b374f2a780e04789\" target=\"_blank\">\n",
    "    AllianceBernstein</a></span>\n",
    "</span>\n",
    "<tr>\n",
    "<td class=\"snip\">\n",
    "<nobr>$117,500 - $127,500 a year</nobr>\n",
    "<div>\n",
    "<span class=\"summary\" itemprop=\"description\">\n",
    "C onduct quantitative and statistical research as well as portfolio management for various investment portfolios. Collaborate with Quantitative Analysts and</span>\n",
    "</div>\n",
    "</div>\n",
    "</td>\n",
    "</tr>\n",
    "</table>\n",
    "</div>\n",
    "```\n",
    "\n",
    "While this has some more verbose elements removed, we can see that there is some structure to the above:\n",
    "- The salary is in a `span` with `class='salaryText'`.\n",
    "- The title of a job is in a link with class set to `jobtitle` and a `data-tn-element='jobTitle'`.  \n",
    "- The location is set in a `span` with `class='location'`. \n",
    "- The company is set in a `span` with `class='company'`."
   ]
  },
  {
   "cell_type": "markdown",
   "metadata": {
    "focus": false,
    "id": "f1eddb90-4ba8-483c-a229-77e93aa53119"
   },
   "source": [
    "### Writing a function to extract each item: location, company, job, and salary."
   ]
  },
  {
   "cell_type": "code",
   "execution_count": null,
   "metadata": {},
   "outputs": [],
   "source": [
    "# #only get a job postings info if there is a salary to extract\n",
    "# results = []\n",
    "# for job in soup.find_all('div', class_ = 'jobsearch-SerpJobCard'):\n",
    "#     for x in job.find_all('span', class_ = 'salaryText'):\n",
    "#         if x.text != None:\n",
    "#             salary = job.find('span', class_ = 'salaryText').text\n",
    "#             company = job.find('span', class_ = 'company').text\n",
    "            \n",
    "#             if job.find('span', class_ = 'location') == None:\n",
    "#                 location = np.nan\n",
    "                            \n",
    "#             else:\n",
    "#                 location = job.find('span', class_ = 'location').text\n",
    "                \n",
    "#             summary = job.find('div', class_ = 'summary').text\n",
    "#             results.append([salary,company,location,summary])\n",
    "            \n",
    "            \n",
    "            \n"
   ]
  },
  {
   "cell_type": "code",
   "execution_count": null,
   "metadata": {},
   "outputs": [],
   "source": [
    "#THE ACTUAL FUNCTION USED TO SCRAPE\n",
    "\n",
    "def total_extraction(soup):\n",
    "    for job in soup.find_all('div', class_ = 'jobsearch-SerpJobCard'):\n",
    "        for x in job.find_all('span', class_ = 'salaryText'):\n",
    "            if x.text != None:\n",
    "                salary = job.find('span', class_ = 'salaryText').text\n",
    "                company = job.find('span', class_ = 'company').text\n",
    "            \n",
    "                if job.find('span', class_ = 'location') == None:\n",
    "                    location = np.nan\n",
    "                            \n",
    "                else:\n",
    "                    location = job.find('span', class_ = 'location').text\n",
    "                    \n",
    "                summary = job.find('div', class_ = 'summary').text\n",
    "                title = job.find('a', class_ = 'jobtitle').text\n",
    "                # taking the city searched for as well as the location as many locations are blank on the website\n",
    "                #this may cause multicolinearity but that can be minimised using regularisation (espacially lasso)\n",
    "                results.append([title, salary,company,location,summary,city])\n",
    "                print('Extraction occuring')"
   ]
  },
  {
   "cell_type": "code",
   "execution_count": null,
   "metadata": {
    "scrolled": true
   },
   "outputs": [],
   "source": [
    "#TESTING THE FUNCTION\n",
    "results = []\n",
    "total_extraction(soup)\n",
    "results"
   ]
  },
  {
   "cell_type": "code",
   "execution_count": null,
   "metadata": {},
   "outputs": [],
   "source": [
    "url = 'https://www.linkedin.com/jobs/search/?keywords=data%20science&location=London'\n",
    "link = requests.get(url)\n",
    "linkedin = BeautifulSoup(link.text,'html.parser')"
   ]
  },
  {
   "cell_type": "markdown",
   "metadata": {
    "focus": false,
    "id": "34070e89-9521-4b45-90c8-57a6599aac68"
   },
   "source": [
    "Now, to scale up our scraping, we need to accumulate more results. We can do this by examining the URL above.\n",
    "\n",
    "- \"http://www.indeed.com/jobs?q=data+scientist+%2420%2C000&l=New+York&start=10\"\n",
    "\n",
    "There are two query parameters here we can alter to collect more results, the `l=New+York` and the `start=10`. The first controls the location of the results (so we can try a different city). The second controls where in the results to start and gives 10 results (thus, we can keep incrementing by 10 to go further in the list)."
   ]
  },
  {
   "cell_type": "markdown",
   "metadata": {
    "focus": false,
    "id": "e8beed7c-3e42-40c0-810f-5f67f8f885a0"
   },
   "source": [
    "### The following code to collects results from multiple cities and starting points. \n"
   ]
  },
  {
   "cell_type": "code",
   "execution_count": null,
   "metadata": {},
   "outputs": [],
   "source": [
    "results\n",
    "from tqdm import tqdm"
   ]
  },
  {
   "cell_type": "code",
   "execution_count": null,
   "metadata": {
    "scrolled": true
   },
   "outputs": [],
   "source": [
    "from tqdm import tqdm\n",
    "import time\n",
    "url_template = \"https://uk.indeed.com/jobs?q=data+scientist&l={}&start={}\"\n",
    "\n",
    "#one can adapt this to change the max number of pages per city\n",
    "max_results_per_city = 500\n",
    "\n",
    "results = []\n",
    "\n",
    "for city in tqdm(['London','Birmingham','Glasgow','Edinburgh','Liverpool','Manchester','Bristol','Cardiff',\n",
    "                  'Newcastle+upon+Tyne','Brighton','Swansea','Southampton','Cambridge']):\n",
    "    \n",
    "    for job in set(['data+scientist', 'data+analyst', 'business+intelligence', 'research+scientist']):\n",
    "        \n",
    "        for start in range(0, max_results_per_city, 10):\n",
    "        # Grab the results using the request function\n",
    "            web = requests.get(f\"https://uk.indeed.com/jobs?q={job}&l={city}&start={start}\")\n",
    "            indeed = BeautifulSoup(web.text, 'html.parser')\n",
    "            # Append to the full set of results\n",
    "            total_extraction(indeed)\n",
    "            \n",
    "            #need to be able to see if the function isnt working properly\n",
    "            if soup.find('title').text == 'hCaptcha solve page':\n",
    "                print((soup.find('title').text,(city,job,start)))\n",
    "                time.sleep(6)\n",
    "                break\n",
    "                \n",
    "            time.sleep(6)\n",
    "            print((city,job,start))\n",
    "            print('\\n\\n\\n')\n",
    "            \n",
    "            pass\n",
    "    \n",
    "   \n",
    "     \n"
   ]
  },
  {
   "cell_type": "code",
   "execution_count": null,
   "metadata": {},
   "outputs": [],
   "source": [
    "results"
   ]
  },
  {
   "cell_type": "code",
   "execution_count": null,
   "metadata": {},
   "outputs": [],
   "source": [
    "len(results)"
   ]
  },
  {
   "cell_type": "markdown",
   "metadata": {},
   "source": [
    "Below are some snippets of code that had to be used to put some of the infomation together when the captcha page was encountered "
   ]
  },
  {
   "cell_type": "code",
   "execution_count": null,
   "metadata": {},
   "outputs": [],
   "source": [
    "len(bristol_london)"
   ]
  },
  {
   "cell_type": "code",
   "execution_count": null,
   "metadata": {},
   "outputs": [],
   "source": [
    "bristol_london = results.copy()\n"
   ]
  },
  {
   "cell_type": "code",
   "execution_count": null,
   "metadata": {},
   "outputs": [],
   "source": [
    "manchester_to_southhampton = results.copy()\n",
    "len(manchester_to_southhampton)"
   ]
  },
  {
   "cell_type": "code",
   "execution_count": null,
   "metadata": {},
   "outputs": [],
   "source": [
    "bristol_south = bristol_london + manchester_to_southhampton\n"
   ]
  },
  {
   "cell_type": "code",
   "execution_count": null,
   "metadata": {},
   "outputs": [],
   "source": [
    "#need the new results up to cambridge BI\n",
    "\n",
    "london_to_cambridge_dataanalyst_300 = results.copy()"
   ]
  },
  {
   "cell_type": "code",
   "execution_count": null,
   "metadata": {},
   "outputs": [],
   "source": [
    "london_to_twells_300 = london_to_cambridge_dataanalyst_300 + results"
   ]
  },
  {
   "cell_type": "code",
   "execution_count": null,
   "metadata": {},
   "outputs": [],
   "source": []
  },
  {
   "cell_type": "markdown",
   "metadata": {
    "focus": false,
    "id": "20339c09-5032-4e27-91be-286e9b46cd13"
   },
   "source": [
    "#### Use the functions you wrote above to parse out the 4 fields - location, title, company and salary. Create a dataframe from the results with those 4 columns."
   ]
  },
  {
   "cell_type": "code",
   "execution_count": null,
   "metadata": {
    "focus": false,
    "id": "6e259594-1c52-436b-ab9e-527e071941c1"
   },
   "outputs": [],
   "source": [
    "## YOUR CODE HERE\n",
    "\n",
    "unclean_df = pd.DataFrame(results, columns = ['title','salary', 'company','location','summary','city'])\n",
    "\n",
    "unclean_df"
   ]
  },
  {
   "cell_type": "markdown",
   "metadata": {},
   "source": [
    "<h1> Cleaning the Data Frame</h1>"
   ]
  },
  {
   "cell_type": "markdown",
   "metadata": {
    "focus": false,
    "id": "ff98ce64-78a7-441f-a675-63464e32c834"
   },
   "source": [
    "Lastly, we need to clean up salary data. \n",
    "\n",
    "1. Only a small number of the scraped results have salary information - only these will be used for modeling.\n",
    "1. Some of the salaries are not yearly but hourly or weekly, these will not be useful to us for now.\n",
    "1. Some of the entries may be duplicated.\n",
    "1. The salaries are given as text and usually with ranges."
   ]
  },
  {
   "cell_type": "code",
   "execution_count": null,
   "metadata": {},
   "outputs": [],
   "source": [
    "#what is duplicated?\n",
    "unclean_df[unclean_df.duplicated() == True]"
   ]
  },
  {
   "cell_type": "code",
   "execution_count": null,
   "metadata": {},
   "outputs": [],
   "source": [
    "removed_duplicates = unclean_df.drop_duplicates(keep = 'first')\n",
    "removed_duplicates"
   ]
  },
  {
   "cell_type": "code",
   "execution_count": null,
   "metadata": {},
   "outputs": [],
   "source": [
    "new_duplicate_test = removed_duplicates[['title', 'salary', 'company', 'location', 'summary']]\n",
    "new_duplicate_test[new_duplicate_test.duplicated() == True].shape[0]"
   ]
  },
  {
   "cell_type": "code",
   "execution_count": null,
   "metadata": {},
   "outputs": [],
   "source": [
    "for dex in removed_duplicates.index:\n",
    "    if dex in new_duplicate_test[new_duplicate_test.duplicated() == True].index:\n",
    "        removed_duplicates.drop(dex , axis = 0, inplace = True)\n",
    "removed_duplicates.shape[0]"
   ]
  },
  {
   "cell_type": "code",
   "execution_count": null,
   "metadata": {},
   "outputs": [],
   "source": []
  },
  {
   "cell_type": "code",
   "execution_count": null,
   "metadata": {},
   "outputs": [],
   "source": []
  },
  {
   "cell_type": "code",
   "execution_count": null,
   "metadata": {},
   "outputs": [],
   "source": []
  },
  {
   "cell_type": "code",
   "execution_count": null,
   "metadata": {},
   "outputs": [],
   "source": []
  },
  {
   "cell_type": "code",
   "execution_count": null,
   "metadata": {},
   "outputs": [],
   "source": []
  },
  {
   "cell_type": "markdown",
   "metadata": {
    "focus": false,
    "id": "ff98ce64-78a7-441f-a675-63464e32c834"
   },
   "source": [
    "#### Find the entries with annual salary entries, by filtering the entries without salaries or salaries that are not yearly (filter those that refer to hour or week). Also, remove duplicate entries."
   ]
  },
  {
   "cell_type": "code",
   "execution_count": null,
   "metadata": {},
   "outputs": [],
   "source": [
    "#practice on fake inputs for when the website allows you access again\n",
    "\n",
    "salaries = ['£35,000 - £55,000 a year' , '£350 - £550 a day' , '£20,000 - £55,000 a year', '£35 - £550 a day', '£300 a year', '£40 - £50 per hour']\n",
    "\n",
    "new_sal_per_yr = []\n",
    "for x in salaries:\n",
    "    x = x.replace(',', '').replace('£','')\n",
    "    x = x.split()\n",
    "    if '-' in x and 'year' in x:\n",
    "        new_sal_per_yr.append((int(x[0]) + int(x[2]))/2)\n",
    "    if '-' not in x and 'year' in x:\n",
    "        new_sal_per_yr.append((int(x[0])))\n",
    "        \n",
    "    if '-' in x and 'day' in x:\n",
    "        new_sal_per_yr.append((int(x[0]) + int(x[2]))/2 * 365)\n",
    "    if '-' not in x and 'day' in x:\n",
    "        new_sal_per_yr.append(int(x[0]) * 365)\n",
    "        \n",
    "    if '-' in x and 'week' in x:\n",
    "        new_sal_per_yr.append((int(x[0]) + int(x[2]))/2 * 52)\n",
    "    if '-' not in x and 'week' in x:\n",
    "        new_sal_per_yr.append(int(x[0]) * 52)  \n",
    "        \n",
    "    if '-' in x and 'hour' in x:\n",
    "        new_sal_per_yr.append((int(x[0]) + int(x[2]))/2 * 45 * 52)\n",
    "    if '-' not in x and 'hour' in x:\n",
    "        #on average people work hours per week\n",
    "        new_sal_per_yr.append(int(x[0]) * 45 * 52)\n",
    "        \n",
    "new_sal_per_yr\n"
   ]
  },
  {
   "cell_type": "code",
   "execution_count": null,
   "metadata": {},
   "outputs": [],
   "source": [
    "#removing whitespace\n",
    "\n",
    "for x in removed_duplicates.columns:\n",
    "    new_elements = []\n",
    "    try:\n",
    "        for series in removed_duplicates[x]:\n",
    "            series = series.strip()\n",
    "            new_elements.append(series)\n",
    "        removed_duplicates[x] = new_elements\n",
    "    except:\n",
    "            pass\n",
    "removed_duplicates"
   ]
  },
  {
   "cell_type": "code",
   "execution_count": null,
   "metadata": {
    "focus": false,
    "id": "58533e57-f86b-494a-b841-e7b59c6229c6"
   },
   "outputs": [],
   "source": [
    "## YOUR CODE HERE"
   ]
  },
  {
   "cell_type": "markdown",
   "metadata": {
    "focus": false,
    "id": "7d4bc860-b214-4f75-9cd0-b234830b1ec2"
   },
   "source": [
    "#### Write a function that takes a salary string and converts it to a number, averaging a salary range if necessary."
   ]
  },
  {
   "cell_type": "code",
   "execution_count": null,
   "metadata": {
    "focus": false,
    "id": "a0f701e0-80bd-40ba-9101-4535860c0968"
   },
   "outputs": [],
   "source": [
    "## YOUR CODE HERE\n",
    "#not taking into account contract work!!\n",
    "def salary_converter(x):\n",
    "    x = x.replace(',', '').replace('£','')\n",
    "    x = x.split()\n",
    "    if '-' in x and 'year' in x:\n",
    "        amount = (int(x[0]) + int(x[2]))/2\n",
    "        return amount\n",
    "    if '-' not in x and 'year' in x:\n",
    "        amount = int(x[0])\n",
    "        return amount\n",
    "        \n",
    "    if '-' in x and 'day' in x:\n",
    "        amount = (int(x[0]) + int(x[2]))/2 * 365\n",
    "        return amount\n",
    "    if '-' not in x and 'day' in x:\n",
    "        amount = int(x[0]) * 365\n",
    "        return amount\n",
    "        \n",
    "    if '-' in x and 'week' in x:\n",
    "        amount = (int(x[0]) + int(x[2]))/2 * 52\n",
    "        return amount\n",
    "    if '-' not in x and 'week' in x:\n",
    "        amount = int(x[0]) * 52\n",
    "        return amount\n",
    "        \n",
    "    if '-' in x and 'hour' in x:\n",
    "        amount = (float(x[0]) + float(x[2]))/2 * 45 * 52\n",
    "        return amount\n",
    "    if '-' not in x and 'hour' in x:\n",
    "        #on average people work 45 hours per week\n",
    "        amount = float(x[0]) * 45 * 52\n",
    "        return amount"
   ]
  },
  {
   "cell_type": "code",
   "execution_count": null,
   "metadata": {},
   "outputs": [],
   "source": [
    "removed_duplicates.salary = removed_duplicates.salary.apply(lambda x:salary_converter(x))\n",
    "removed_duplicates"
   ]
  },
  {
   "cell_type": "code",
   "execution_count": null,
   "metadata": {},
   "outputs": [],
   "source": []
  },
  {
   "cell_type": "code",
   "execution_count": null,
   "metadata": {},
   "outputs": [],
   "source": [
    "# we want to split up the titles columns into more categories:\n",
    "       # is Senior or head / Jr or Junior or graduate\n",
    "       #is data analyst / data science or data scientist / BI or Business intelligence or business analyst\n",
    "\n",
    "is_junior = []\n",
    "is_senior = []\n",
    "is_datascientist = []\n",
    "is_dataanalyst = []\n",
    "is_BI = []\n",
    "is_consultant = []\n",
    "is_ml = []\n",
    "for x in removed_duplicates.title:\n",
    "    if 'Junior' in x or 'Jr' in x or 'Graduate' in x:\n",
    "        is_junior.append(1)\n",
    "    else:\n",
    "        is_junior.append(0)\n",
    "    \n",
    "    if 'Senior' in x or 'Sr' in x or 'Head' in x or 'Lead' in x:\n",
    "        is_senior.append(1)\n",
    "    else:\n",
    "        is_senior.append(0)\n",
    "        \n",
    "    \n",
    "    if 'Data Science' in x or 'Data Scientist' in x:\n",
    "        is_datascientist.append(1)\n",
    "    else:\n",
    "        is_datascientist.append(0)\n",
    "        \n",
    "    if 'Data Analyst' in x:\n",
    "        is_dataanalyst.append(1)\n",
    "    else:\n",
    "        is_dataanalyst.append(0)\n",
    "        \n",
    "    if 'Business Intelligence' in x or 'BI' in x or 'Business Analyst' in x:\n",
    "        is_BI.append(1)\n",
    "    else:\n",
    "        is_BI.append(0)\n",
    "    \n",
    "    if 'Consultant' in x or 'Consulting' in x:\n",
    "        is_consultant.append(1)\n",
    "    else:\n",
    "        is_consultant.append(0)\n",
    "        \n",
    "    if 'Machine Learning' in x or 'ML' in x:\n",
    "        is_ml.append(1)\n",
    "    else:\n",
    "        is_ml.append(0)\n",
    "    \n",
    "removed_duplicates['junior'] = is_junior\n",
    "removed_duplicates['senior'] = is_senior\n",
    "removed_duplicates['data_scientist'] = is_datascientist\n",
    "removed_duplicates['data_analyst'] = is_dataanalyst\n",
    "removed_duplicates['BI'] = is_BI\n",
    "removed_duplicates['consultant'] = is_consultant\n",
    "removed_duplicates['ml_specific'] = is_ml\n",
    "\n",
    "removed_duplicates.head(5)"
   ]
  },
  {
   "cell_type": "code",
   "execution_count": null,
   "metadata": {
    "scrolled": true
   },
   "outputs": [],
   "source": [
    "#split salary into high (1) or low (0)\n",
    "high_low = []\n",
    "for salary in removed_duplicates.salary:\n",
    "    if salary > removed_duplicates.salary.quantile(0.75):\n",
    "        high_low.append(1)\n",
    "    else:\n",
    "        high_low.append(0)\n",
    "        \n",
    "removed_duplicates['high_low_salary'] = high_low\n",
    "\n",
    "removed_duplicates.head(10)"
   ]
  },
  {
   "cell_type": "code",
   "execution_count": null,
   "metadata": {},
   "outputs": [],
   "source": [
    "# GET LOCATION ONLY REMOVING ANY POST CODES\n",
    "import re\n",
    "location_location_location = []\n",
    "for location in removed_duplicates.location:\n",
    "    try:\n",
    "        x = location.split()\n",
    "        new_location = []\n",
    "        for word in x:\n",
    "            if re.findall(r'\\d', word) == []:\n",
    "                new_location.append(word)\n",
    "        new_loc = ' '.join(new_location)\n",
    "        location_location_location.append(new_loc)\n",
    "\n",
    "    except:\n",
    "        location_location_location.append(location)\n",
    "        \n",
    "removed_duplicates['location'] = location_location_location\n",
    "removed_duplicates.head(5)"
   ]
  },
  {
   "cell_type": "code",
   "execution_count": null,
   "metadata": {},
   "outputs": [],
   "source": [
    "#         x = location.split()\n",
    "#         new_location = []\n",
    "#         for word in x:\n",
    "#             for number in [str(x) for x in range(0,10)]:\n",
    "#                 if number not in word:\n",
    "#                     new_location.append(word)\n",
    "#         new_location1 = ''.join(new_location)\n",
    "#         location_location_location.append(new_location1)\n",
    "\n",
    "\n",
    "# for word in x:\n",
    "#             if '0' in word or '1' in word or '2' in word or '3' in word or '4' in word or '5' in word or '6' in word or '7' in word or '8' in word or '9' in word:\n",
    "#                 del x[x.index(word)]\n",
    "#         location_location_location.append(x)"
   ]
  },
  {
   "cell_type": "code",
   "execution_count": null,
   "metadata": {},
   "outputs": [],
   "source": [
    "#dummify the city/locations\n",
    "df_dummies = pd.get_dummies(webscrape_from_500_per_city_research , columns = ['location', 'city'], drop_first = True , dummy_na = True)\n",
    "df_dummies.head(10)"
   ]
  },
  {
   "cell_type": "code",
   "execution_count": null,
   "metadata": {},
   "outputs": [],
   "source": []
  },
  {
   "cell_type": "markdown",
   "metadata": {
    "focus": false,
    "id": "43e71edd-210e-42b1-9336-70a931f048af"
   },
   "source": [
    "### Save your results as a CSV"
   ]
  },
  {
   "cell_type": "code",
   "execution_count": null,
   "metadata": {},
   "outputs": [],
   "source": [
    "webscraper_from_200_per_city.to_csv('webscraper_from_200_per_city.csv', index = True)\n",
    "\n",
    "df_dummies.to_csv('webscraper_200_per_city_totallyclean_dummies.csv', index = False)"
   ]
  },
  {
   "cell_type": "code",
   "execution_count": null,
   "metadata": {
    "focus": false,
    "id": "783fd153-28ac-47ab-bfca-27e7c1de95b4"
   },
   "outputs": [],
   "source": [
    "df_dummies.to_csv('webscraper_300_londontocambridge.csv', index = False)"
   ]
  },
  {
   "cell_type": "code",
   "execution_count": null,
   "metadata": {},
   "outputs": [],
   "source": [
    "webscrape_from_500_per_city_research.to_csv('webscrape_from_500_per_city_research.csv', index = False)"
   ]
  },
  {
   "cell_type": "code",
   "execution_count": null,
   "metadata": {},
   "outputs": [],
   "source": []
  },
  {
   "cell_type": "code",
   "execution_count": null,
   "metadata": {},
   "outputs": [],
   "source": []
  },
  {
   "cell_type": "code",
   "execution_count": null,
   "metadata": {},
   "outputs": [],
   "source": []
  },
  {
   "cell_type": "code",
   "execution_count": null,
   "metadata": {},
   "outputs": [],
   "source": []
  },
  {
   "cell_type": "code",
   "execution_count": null,
   "metadata": {},
   "outputs": [],
   "source": []
  },
  {
   "cell_type": "markdown",
   "metadata": {
    "focus": false,
    "id": "243e949e-2742-40af-872e-fec475fd306c"
   },
   "source": [
    "### Load in the the data of scraped salaries"
   ]
  },
  {
   "cell_type": "code",
   "execution_count": 7,
   "metadata": {
    "focus": false,
    "id": "588f9845-6143-4bcc-bfd1-85d45b79303d"
   },
   "outputs": [
    {
     "data": {
      "text/html": [
       "<div>\n",
       "<style scoped>\n",
       "    .dataframe tbody tr th:only-of-type {\n",
       "        vertical-align: middle;\n",
       "    }\n",
       "\n",
       "    .dataframe tbody tr th {\n",
       "        vertical-align: top;\n",
       "    }\n",
       "\n",
       "    .dataframe thead th {\n",
       "        text-align: right;\n",
       "    }\n",
       "</style>\n",
       "<table border=\"1\" class=\"dataframe\">\n",
       "  <thead>\n",
       "    <tr style=\"text-align: right;\">\n",
       "      <th></th>\n",
       "      <th>title</th>\n",
       "      <th>salary</th>\n",
       "      <th>company</th>\n",
       "      <th>summary</th>\n",
       "      <th>junior</th>\n",
       "      <th>senior</th>\n",
       "      <th>data_scientist</th>\n",
       "      <th>data_analyst</th>\n",
       "      <th>BI</th>\n",
       "      <th>consultant</th>\n",
       "      <th>...</th>\n",
       "      <th>city_Cardiff</th>\n",
       "      <th>city_Edinburgh</th>\n",
       "      <th>city_Glasgow</th>\n",
       "      <th>city_Liverpool</th>\n",
       "      <th>city_London</th>\n",
       "      <th>city_Manchester</th>\n",
       "      <th>city_Newcastle+upon+Tyne</th>\n",
       "      <th>city_Southampton</th>\n",
       "      <th>city_Swansea</th>\n",
       "      <th>city_nan</th>\n",
       "    </tr>\n",
       "  </thead>\n",
       "  <tbody>\n",
       "    <tr>\n",
       "      <th>0</th>\n",
       "      <td>Lead Data Scientist</td>\n",
       "      <td>68622.0</td>\n",
       "      <td>UK Government - Government Actuary's Department</td>\n",
       "      <td>Build and maintain networks with other data sc...</td>\n",
       "      <td>0</td>\n",
       "      <td>1</td>\n",
       "      <td>1</td>\n",
       "      <td>0</td>\n",
       "      <td>0</td>\n",
       "      <td>0</td>\n",
       "      <td>...</td>\n",
       "      <td>0</td>\n",
       "      <td>0</td>\n",
       "      <td>0</td>\n",
       "      <td>0</td>\n",
       "      <td>1</td>\n",
       "      <td>0</td>\n",
       "      <td>0</td>\n",
       "      <td>0</td>\n",
       "      <td>0</td>\n",
       "      <td>0</td>\n",
       "    </tr>\n",
       "    <tr>\n",
       "      <th>1</th>\n",
       "      <td>Fraud Data Scientist</td>\n",
       "      <td>67000.0</td>\n",
       "      <td>Legacy Strategies</td>\n",
       "      <td>Work on upstream data cleansing including data...</td>\n",
       "      <td>0</td>\n",
       "      <td>0</td>\n",
       "      <td>1</td>\n",
       "      <td>0</td>\n",
       "      <td>0</td>\n",
       "      <td>0</td>\n",
       "      <td>...</td>\n",
       "      <td>0</td>\n",
       "      <td>0</td>\n",
       "      <td>0</td>\n",
       "      <td>0</td>\n",
       "      <td>1</td>\n",
       "      <td>0</td>\n",
       "      <td>0</td>\n",
       "      <td>0</td>\n",
       "      <td>0</td>\n",
       "      <td>0</td>\n",
       "    </tr>\n",
       "    <tr>\n",
       "      <th>2</th>\n",
       "      <td>Data Scientist</td>\n",
       "      <td>264625.0</td>\n",
       "      <td>Data Idols</td>\n",
       "      <td>As a Data Scientist you will work on a variety...</td>\n",
       "      <td>0</td>\n",
       "      <td>0</td>\n",
       "      <td>1</td>\n",
       "      <td>0</td>\n",
       "      <td>0</td>\n",
       "      <td>0</td>\n",
       "      <td>...</td>\n",
       "      <td>0</td>\n",
       "      <td>0</td>\n",
       "      <td>0</td>\n",
       "      <td>0</td>\n",
       "      <td>1</td>\n",
       "      <td>0</td>\n",
       "      <td>0</td>\n",
       "      <td>0</td>\n",
       "      <td>0</td>\n",
       "      <td>0</td>\n",
       "    </tr>\n",
       "    <tr>\n",
       "      <th>3</th>\n",
       "      <td>Data Scientist</td>\n",
       "      <td>80000.0</td>\n",
       "      <td>Scarlet Oak Partners</td>\n",
       "      <td>Have 3 years of data science/machine learning ...</td>\n",
       "      <td>0</td>\n",
       "      <td>0</td>\n",
       "      <td>1</td>\n",
       "      <td>0</td>\n",
       "      <td>0</td>\n",
       "      <td>0</td>\n",
       "      <td>...</td>\n",
       "      <td>0</td>\n",
       "      <td>0</td>\n",
       "      <td>0</td>\n",
       "      <td>0</td>\n",
       "      <td>1</td>\n",
       "      <td>0</td>\n",
       "      <td>0</td>\n",
       "      <td>0</td>\n",
       "      <td>0</td>\n",
       "      <td>0</td>\n",
       "    </tr>\n",
       "    <tr>\n",
       "      <th>4</th>\n",
       "      <td>Data Scientist – Marketing</td>\n",
       "      <td>255500.0</td>\n",
       "      <td>Data Idols</td>\n",
       "      <td>You’ll be working across multiple teams of the...</td>\n",
       "      <td>0</td>\n",
       "      <td>0</td>\n",
       "      <td>1</td>\n",
       "      <td>0</td>\n",
       "      <td>0</td>\n",
       "      <td>0</td>\n",
       "      <td>...</td>\n",
       "      <td>0</td>\n",
       "      <td>0</td>\n",
       "      <td>0</td>\n",
       "      <td>0</td>\n",
       "      <td>1</td>\n",
       "      <td>0</td>\n",
       "      <td>0</td>\n",
       "      <td>0</td>\n",
       "      <td>0</td>\n",
       "      <td>0</td>\n",
       "    </tr>\n",
       "    <tr>\n",
       "      <th>...</th>\n",
       "      <td>...</td>\n",
       "      <td>...</td>\n",
       "      <td>...</td>\n",
       "      <td>...</td>\n",
       "      <td>...</td>\n",
       "      <td>...</td>\n",
       "      <td>...</td>\n",
       "      <td>...</td>\n",
       "      <td>...</td>\n",
       "      <td>...</td>\n",
       "      <td>...</td>\n",
       "      <td>...</td>\n",
       "      <td>...</td>\n",
       "      <td>...</td>\n",
       "      <td>...</td>\n",
       "      <td>...</td>\n",
       "      <td>...</td>\n",
       "      <td>...</td>\n",
       "      <td>...</td>\n",
       "      <td>...</td>\n",
       "      <td>...</td>\n",
       "    </tr>\n",
       "    <tr>\n",
       "      <th>1422</th>\n",
       "      <td>BI Analyst - Power BI, SQL, Excel, Finance</td>\n",
       "      <td>40000.0</td>\n",
       "      <td>Modis</td>\n",
       "      <td>Assisting with existing data systems and produ...</td>\n",
       "      <td>0</td>\n",
       "      <td>0</td>\n",
       "      <td>0</td>\n",
       "      <td>0</td>\n",
       "      <td>1</td>\n",
       "      <td>0</td>\n",
       "      <td>...</td>\n",
       "      <td>0</td>\n",
       "      <td>0</td>\n",
       "      <td>0</td>\n",
       "      <td>0</td>\n",
       "      <td>0</td>\n",
       "      <td>0</td>\n",
       "      <td>0</td>\n",
       "      <td>0</td>\n",
       "      <td>0</td>\n",
       "      <td>0</td>\n",
       "    </tr>\n",
       "    <tr>\n",
       "      <th>1423</th>\n",
       "      <td>Junior BI Analyst Excel SQL - Cybersecurity</td>\n",
       "      <td>37500.0</td>\n",
       "      <td>Client Server</td>\n",
       "      <td>You'll then collaborate with the Data Warehous...</td>\n",
       "      <td>1</td>\n",
       "      <td>0</td>\n",
       "      <td>0</td>\n",
       "      <td>0</td>\n",
       "      <td>1</td>\n",
       "      <td>0</td>\n",
       "      <td>...</td>\n",
       "      <td>0</td>\n",
       "      <td>0</td>\n",
       "      <td>0</td>\n",
       "      <td>0</td>\n",
       "      <td>0</td>\n",
       "      <td>0</td>\n",
       "      <td>0</td>\n",
       "      <td>0</td>\n",
       "      <td>0</td>\n",
       "      <td>0</td>\n",
       "    </tr>\n",
       "    <tr>\n",
       "      <th>1424</th>\n",
       "      <td>Quant Analysis Consultant (Financial Modelling)</td>\n",
       "      <td>34000.0</td>\n",
       "      <td>ECM Selection</td>\n",
       "      <td>This would include data gathering, quantitativ...</td>\n",
       "      <td>0</td>\n",
       "      <td>0</td>\n",
       "      <td>0</td>\n",
       "      <td>0</td>\n",
       "      <td>0</td>\n",
       "      <td>1</td>\n",
       "      <td>...</td>\n",
       "      <td>0</td>\n",
       "      <td>0</td>\n",
       "      <td>0</td>\n",
       "      <td>0</td>\n",
       "      <td>0</td>\n",
       "      <td>0</td>\n",
       "      <td>0</td>\n",
       "      <td>0</td>\n",
       "      <td>0</td>\n",
       "      <td>0</td>\n",
       "    </tr>\n",
       "    <tr>\n",
       "      <th>1425</th>\n",
       "      <td>Analyst/Medical Writer</td>\n",
       "      <td>30000.0</td>\n",
       "      <td>Costello Medical</td>\n",
       "      <td>A role in the Market Access division will ther...</td>\n",
       "      <td>0</td>\n",
       "      <td>0</td>\n",
       "      <td>0</td>\n",
       "      <td>0</td>\n",
       "      <td>0</td>\n",
       "      <td>0</td>\n",
       "      <td>...</td>\n",
       "      <td>0</td>\n",
       "      <td>0</td>\n",
       "      <td>0</td>\n",
       "      <td>0</td>\n",
       "      <td>0</td>\n",
       "      <td>0</td>\n",
       "      <td>0</td>\n",
       "      <td>0</td>\n",
       "      <td>0</td>\n",
       "      <td>0</td>\n",
       "    </tr>\n",
       "    <tr>\n",
       "      <th>1426</th>\n",
       "      <td>BI Analyst - Power BI, SQL, Excel, Finance, Vi...</td>\n",
       "      <td>40000.0</td>\n",
       "      <td>Modis</td>\n",
       "      <td>Assisting with existing data systems and produ...</td>\n",
       "      <td>0</td>\n",
       "      <td>0</td>\n",
       "      <td>0</td>\n",
       "      <td>0</td>\n",
       "      <td>1</td>\n",
       "      <td>0</td>\n",
       "      <td>...</td>\n",
       "      <td>0</td>\n",
       "      <td>0</td>\n",
       "      <td>0</td>\n",
       "      <td>0</td>\n",
       "      <td>0</td>\n",
       "      <td>0</td>\n",
       "      <td>0</td>\n",
       "      <td>0</td>\n",
       "      <td>0</td>\n",
       "      <td>0</td>\n",
       "    </tr>\n",
       "  </tbody>\n",
       "</table>\n",
       "<p>1427 rows × 201 columns</p>\n",
       "</div>"
      ],
      "text/plain": [
       "                                                  title    salary  \\\n",
       "0                                   Lead Data Scientist   68622.0   \n",
       "1                                  Fraud Data Scientist   67000.0   \n",
       "2                                        Data Scientist  264625.0   \n",
       "3                                        Data Scientist   80000.0   \n",
       "4                            Data Scientist – Marketing  255500.0   \n",
       "...                                                 ...       ...   \n",
       "1422         BI Analyst - Power BI, SQL, Excel, Finance   40000.0   \n",
       "1423        Junior BI Analyst Excel SQL - Cybersecurity   37500.0   \n",
       "1424    Quant Analysis Consultant (Financial Modelling)   34000.0   \n",
       "1425                             Analyst/Medical Writer   30000.0   \n",
       "1426  BI Analyst - Power BI, SQL, Excel, Finance, Vi...   40000.0   \n",
       "\n",
       "                                              company  \\\n",
       "0     UK Government - Government Actuary's Department   \n",
       "1                                   Legacy Strategies   \n",
       "2                                          Data Idols   \n",
       "3                                Scarlet Oak Partners   \n",
       "4                                          Data Idols   \n",
       "...                                               ...   \n",
       "1422                                            Modis   \n",
       "1423                                    Client Server   \n",
       "1424                                    ECM Selection   \n",
       "1425                                 Costello Medical   \n",
       "1426                                            Modis   \n",
       "\n",
       "                                                summary  junior  senior  \\\n",
       "0     Build and maintain networks with other data sc...       0       1   \n",
       "1     Work on upstream data cleansing including data...       0       0   \n",
       "2     As a Data Scientist you will work on a variety...       0       0   \n",
       "3     Have 3 years of data science/machine learning ...       0       0   \n",
       "4     You’ll be working across multiple teams of the...       0       0   \n",
       "...                                                 ...     ...     ...   \n",
       "1422  Assisting with existing data systems and produ...       0       0   \n",
       "1423  You'll then collaborate with the Data Warehous...       1       0   \n",
       "1424  This would include data gathering, quantitativ...       0       0   \n",
       "1425  A role in the Market Access division will ther...       0       0   \n",
       "1426  Assisting with existing data systems and produ...       0       0   \n",
       "\n",
       "      data_scientist  data_analyst  BI  consultant  ...  city_Cardiff  \\\n",
       "0                  1             0   0           0  ...             0   \n",
       "1                  1             0   0           0  ...             0   \n",
       "2                  1             0   0           0  ...             0   \n",
       "3                  1             0   0           0  ...             0   \n",
       "4                  1             0   0           0  ...             0   \n",
       "...              ...           ...  ..         ...  ...           ...   \n",
       "1422               0             0   1           0  ...             0   \n",
       "1423               0             0   1           0  ...             0   \n",
       "1424               0             0   0           1  ...             0   \n",
       "1425               0             0   0           0  ...             0   \n",
       "1426               0             0   1           0  ...             0   \n",
       "\n",
       "      city_Edinburgh  city_Glasgow  city_Liverpool  city_London  \\\n",
       "0                  0             0               0            1   \n",
       "1                  0             0               0            1   \n",
       "2                  0             0               0            1   \n",
       "3                  0             0               0            1   \n",
       "4                  0             0               0            1   \n",
       "...              ...           ...             ...          ...   \n",
       "1422               0             0               0            0   \n",
       "1423               0             0               0            0   \n",
       "1424               0             0               0            0   \n",
       "1425               0             0               0            0   \n",
       "1426               0             0               0            0   \n",
       "\n",
       "      city_Manchester  city_Newcastle+upon+Tyne  city_Southampton  \\\n",
       "0                   0                         0                 0   \n",
       "1                   0                         0                 0   \n",
       "2                   0                         0                 0   \n",
       "3                   0                         0                 0   \n",
       "4                   0                         0                 0   \n",
       "...               ...                       ...               ...   \n",
       "1422                0                         0                 0   \n",
       "1423                0                         0                 0   \n",
       "1424                0                         0                 0   \n",
       "1425                0                         0                 0   \n",
       "1426                0                         0                 0   \n",
       "\n",
       "      city_Swansea  city_nan  \n",
       "0                0         0  \n",
       "1                0         0  \n",
       "2                0         0  \n",
       "3                0         0  \n",
       "4                0         0  \n",
       "...            ...       ...  \n",
       "1422             0         0  \n",
       "1423             0         0  \n",
       "1424             0         0  \n",
       "1425             0         0  \n",
       "1426             0         0  \n",
       "\n",
       "[1427 rows x 201 columns]"
      ]
     },
     "execution_count": 7,
     "metadata": {},
     "output_type": "execute_result"
    }
   ],
   "source": [
    "## YOUR CODE HERE\n",
    "\n",
    "data = pd.read_csv('webscraper_300_londontocambridge.csv')\n",
    "data"
   ]
  },
  {
   "cell_type": "markdown",
   "metadata": {},
   "source": [
    "<b> correlations </b>between variables"
   ]
  },
  {
   "cell_type": "code",
   "execution_count": 28,
   "metadata": {
    "scrolled": true
   },
   "outputs": [
    {
     "data": {
      "text/plain": [
       "location_London                    city_London                     0.877831\n",
       "city_Glasgow                       location_Glasgow                0.859221\n",
       "city_Cambridge                     location_Cambridge              0.843981\n",
       "location_Edinburgh                 city_Edinburgh                  0.825049\n",
       "city_Newcastle+upon+Tyne           location_Newcastle upon Tyne    0.793722\n",
       "city_Manchester                    location_Manchester             0.708478\n",
       "location_Cardiff                   city_Cardiff                    0.671725\n",
       "salary                             high_low_salary                 0.668137\n",
       "location_Bristol                   city_Bristol                    0.648369\n",
       "city_Swansea                       location_Bridgend               0.639425\n",
       "location_Liverpool                 city_Liverpool                  0.522968\n",
       "city_Brighton                      location_Brighton               0.478898\n",
       "location_Swansea                   city_Swansea                    0.418014\n",
       "city_Southampton                   location_Southampton            0.416750\n",
       "location_Portsmouth                city_Southampton                0.406562\n",
       "city_Liverpool                     location_Chester                0.368223\n",
       "location_Fareham                   city_Southampton                0.351469\n",
       "city_Swansea                       location_Carmarthen             0.341187\n",
       "salary                             data_scientist                  0.320721\n",
       "data_scientist                     high_low_salary                 0.310740\n",
       "city_Southampton                   location_Bournemouth            0.300554\n",
       "location_London                    data_scientist                  0.297713\n",
       "city_Brighton                      location_Horsham                0.296163\n",
       "city_London                        data_scientist                  0.296155\n",
       "location_Haywards Heath            city_Brighton                   0.264803\n",
       "location_London / Gatwick Airport  city_Brighton                   0.264803\n",
       "city_Brighton                      location_Hove                   0.264803\n",
       "high_low_salary                    senior                          0.262845\n",
       "location_Winchester                city_Southampton                0.256043\n",
       "city_Swansea                       location_Llanelli               0.241171\n",
       "                                   location_Morriston              0.241171\n",
       "location_Morriston                 city_Swansea                    0.241171\n",
       "location_Nantgarw                  city_Cardiff                    0.240873\n",
       "salary                             location_London                 0.233757\n",
       "location_Stockport                 city_Manchester                 0.226417\n",
       "dtype: float64"
      ]
     },
     "execution_count": 28,
     "metadata": {},
     "output_type": "execute_result"
    }
   ],
   "source": [
    "data.corr(method = 'pearson').unstack().sort_values(ascending = False)[data.corr(method = 'pearson').unstack().sort_values(ascending = False) != 1][::2].head(35)"
   ]
  },
  {
   "cell_type": "code",
   "execution_count": null,
   "metadata": {},
   "outputs": [],
   "source": [
    "evidence of multicolinearity between cities and locations"
   ]
  },
  {
   "cell_type": "code",
   "execution_count": 37,
   "metadata": {
    "scrolled": true
   },
   "outputs": [],
   "source": [
    "correlations = data.corr(method = 'pearson')['salary'].to_frame()\n",
    "\n",
    "correlations['abs'] = abs(correlations['salary'])\n",
    "\n",
    "sorted_corr = correlations.sort_values(by = 'abs', ascending = False).iloc[2:,:].head(30)\n",
    "\n",
    "sorted_corr.drop('abs', inplace = True, axis = 1)"
   ]
  },
  {
   "cell_type": "code",
   "execution_count": 50,
   "metadata": {},
   "outputs": [
    {
     "data": {
      "image/png": "[encoded data removed]",
      "text/plain": [
       "<Figure size 1440x1440 with 2 Axes>"
      ]
     },
     "metadata": {
      "needs_background": "light"
     },
     "output_type": "display_data"
    }
   ],
   "source": [
    "\n",
    "fig ,ax = plt.subplots(figsize = (20,20))\n",
    "sns.heatmap(sorted_corr , annot = True, ax = ax);\n",
    "ax.set_title('Highest Correlations between Features and Salary', fontsize = 25);"
   ]
  },
  {
   "cell_type": "markdown",
   "metadata": {},
   "source": [
    "<h1> Modelling </h1>"
   ]
  },
  {
   "cell_type": "markdown",
   "metadata": {
    "focus": false,
    "id": "c7631f51-07f2-4c79-a093-3e9bc7849a48"
   },
   "source": [
    "### We want to predict a binary variable - whether the salary was low or high. Compute the median salary and create a new binary variable that is true when the salary is high (above the median).\n",
    "\n",
    "We could also perform Linear Regression (or any regression) to predict the salary value here. Instead, we are going to convert this into a _binary_ classification problem, by predicting two classes, HIGH vs LOW salary.\n",
    "\n",
    "While performing regression may be better, performing classification may help remove some of the noise of the extreme salaries. We don't have to choose the `median` as the splitting point - we could also split on the 75th percentile or any other reasonable breaking point.\n",
    "\n",
    "In fact, the ideal scenario may be to predict many levels of salaries."
   ]
  },
  {
   "cell_type": "code",
   "execution_count": 48,
   "metadata": {
    "focus": false,
    "id": "c20d2498-151c-44c3-a453-3a333c79a0ac"
   },
   "outputs": [
    {
     "data": {
      "text/html": [
       "<div>\n",
       "<style scoped>\n",
       "    .dataframe tbody tr th:only-of-type {\n",
       "        vertical-align: middle;\n",
       "    }\n",
       "\n",
       "    .dataframe tbody tr th {\n",
       "        vertical-align: top;\n",
       "    }\n",
       "\n",
       "    .dataframe thead th {\n",
       "        text-align: right;\n",
       "    }\n",
       "</style>\n",
       "<table border=\"1\" class=\"dataframe\">\n",
       "  <thead>\n",
       "    <tr style=\"text-align: right;\">\n",
       "      <th></th>\n",
       "      <th>location_Airdrie</th>\n",
       "      <th>location_Alderley Park</th>\n",
       "      <th>location_Altrincham</th>\n",
       "      <th>location_Andover</th>\n",
       "      <th>location_Arundel</th>\n",
       "      <th>location_Avonmouth</th>\n",
       "      <th>location_Babraham</th>\n",
       "      <th>location_Bath</th>\n",
       "      <th>location_Bedford</th>\n",
       "      <th>location_Birkenhead</th>\n",
       "      <th>...</th>\n",
       "      <th>location_Winsford</th>\n",
       "      <th>location_Wirral</th>\n",
       "      <th>location_Woking</th>\n",
       "      <th>location_Wolverhampton</th>\n",
       "      <th>location_Worcester</th>\n",
       "      <th>location_Worthing</th>\n",
       "      <th>location_Wrexham</th>\n",
       "      <th>location_Wrington</th>\n",
       "      <th>location_Wythenshawe</th>\n",
       "      <th>location_nan</th>\n",
       "    </tr>\n",
       "  </thead>\n",
       "  <tbody>\n",
       "    <tr>\n",
       "      <th>0</th>\n",
       "      <td>0</td>\n",
       "      <td>0</td>\n",
       "      <td>0</td>\n",
       "      <td>0</td>\n",
       "      <td>0</td>\n",
       "      <td>0</td>\n",
       "      <td>0</td>\n",
       "      <td>0</td>\n",
       "      <td>0</td>\n",
       "      <td>0</td>\n",
       "      <td>...</td>\n",
       "      <td>0</td>\n",
       "      <td>0</td>\n",
       "      <td>0</td>\n",
       "      <td>0</td>\n",
       "      <td>0</td>\n",
       "      <td>0</td>\n",
       "      <td>0</td>\n",
       "      <td>0</td>\n",
       "      <td>0</td>\n",
       "      <td>0</td>\n",
       "    </tr>\n",
       "    <tr>\n",
       "      <th>1</th>\n",
       "      <td>0</td>\n",
       "      <td>0</td>\n",
       "      <td>0</td>\n",
       "      <td>0</td>\n",
       "      <td>0</td>\n",
       "      <td>0</td>\n",
       "      <td>0</td>\n",
       "      <td>0</td>\n",
       "      <td>0</td>\n",
       "      <td>0</td>\n",
       "      <td>...</td>\n",
       "      <td>0</td>\n",
       "      <td>0</td>\n",
       "      <td>0</td>\n",
       "      <td>0</td>\n",
       "      <td>0</td>\n",
       "      <td>0</td>\n",
       "      <td>0</td>\n",
       "      <td>0</td>\n",
       "      <td>0</td>\n",
       "      <td>0</td>\n",
       "    </tr>\n",
       "    <tr>\n",
       "      <th>2</th>\n",
       "      <td>0</td>\n",
       "      <td>0</td>\n",
       "      <td>0</td>\n",
       "      <td>0</td>\n",
       "      <td>0</td>\n",
       "      <td>0</td>\n",
       "      <td>0</td>\n",
       "      <td>0</td>\n",
       "      <td>0</td>\n",
       "      <td>0</td>\n",
       "      <td>...</td>\n",
       "      <td>0</td>\n",
       "      <td>0</td>\n",
       "      <td>0</td>\n",
       "      <td>0</td>\n",
       "      <td>0</td>\n",
       "      <td>0</td>\n",
       "      <td>0</td>\n",
       "      <td>0</td>\n",
       "      <td>0</td>\n",
       "      <td>0</td>\n",
       "    </tr>\n",
       "    <tr>\n",
       "      <th>3</th>\n",
       "      <td>0</td>\n",
       "      <td>0</td>\n",
       "      <td>0</td>\n",
       "      <td>0</td>\n",
       "      <td>0</td>\n",
       "      <td>0</td>\n",
       "      <td>0</td>\n",
       "      <td>0</td>\n",
       "      <td>0</td>\n",
       "      <td>0</td>\n",
       "      <td>...</td>\n",
       "      <td>0</td>\n",
       "      <td>0</td>\n",
       "      <td>0</td>\n",
       "      <td>0</td>\n",
       "      <td>0</td>\n",
       "      <td>0</td>\n",
       "      <td>0</td>\n",
       "      <td>0</td>\n",
       "      <td>0</td>\n",
       "      <td>0</td>\n",
       "    </tr>\n",
       "    <tr>\n",
       "      <th>4</th>\n",
       "      <td>0</td>\n",
       "      <td>0</td>\n",
       "      <td>0</td>\n",
       "      <td>0</td>\n",
       "      <td>0</td>\n",
       "      <td>0</td>\n",
       "      <td>0</td>\n",
       "      <td>0</td>\n",
       "      <td>0</td>\n",
       "      <td>0</td>\n",
       "      <td>...</td>\n",
       "      <td>0</td>\n",
       "      <td>0</td>\n",
       "      <td>0</td>\n",
       "      <td>0</td>\n",
       "      <td>0</td>\n",
       "      <td>0</td>\n",
       "      <td>0</td>\n",
       "      <td>0</td>\n",
       "      <td>0</td>\n",
       "      <td>0</td>\n",
       "    </tr>\n",
       "    <tr>\n",
       "      <th>...</th>\n",
       "      <td>...</td>\n",
       "      <td>...</td>\n",
       "      <td>...</td>\n",
       "      <td>...</td>\n",
       "      <td>...</td>\n",
       "      <td>...</td>\n",
       "      <td>...</td>\n",
       "      <td>...</td>\n",
       "      <td>...</td>\n",
       "      <td>...</td>\n",
       "      <td>...</td>\n",
       "      <td>...</td>\n",
       "      <td>...</td>\n",
       "      <td>...</td>\n",
       "      <td>...</td>\n",
       "      <td>...</td>\n",
       "      <td>...</td>\n",
       "      <td>...</td>\n",
       "      <td>...</td>\n",
       "      <td>...</td>\n",
       "      <td>...</td>\n",
       "    </tr>\n",
       "    <tr>\n",
       "      <th>1422</th>\n",
       "      <td>0</td>\n",
       "      <td>0</td>\n",
       "      <td>0</td>\n",
       "      <td>0</td>\n",
       "      <td>0</td>\n",
       "      <td>0</td>\n",
       "      <td>0</td>\n",
       "      <td>0</td>\n",
       "      <td>0</td>\n",
       "      <td>0</td>\n",
       "      <td>...</td>\n",
       "      <td>0</td>\n",
       "      <td>0</td>\n",
       "      <td>0</td>\n",
       "      <td>0</td>\n",
       "      <td>0</td>\n",
       "      <td>0</td>\n",
       "      <td>0</td>\n",
       "      <td>0</td>\n",
       "      <td>0</td>\n",
       "      <td>0</td>\n",
       "    </tr>\n",
       "    <tr>\n",
       "      <th>1423</th>\n",
       "      <td>0</td>\n",
       "      <td>0</td>\n",
       "      <td>0</td>\n",
       "      <td>0</td>\n",
       "      <td>0</td>\n",
       "      <td>0</td>\n",
       "      <td>0</td>\n",
       "      <td>0</td>\n",
       "      <td>0</td>\n",
       "      <td>0</td>\n",
       "      <td>...</td>\n",
       "      <td>0</td>\n",
       "      <td>0</td>\n",
       "      <td>0</td>\n",
       "      <td>0</td>\n",
       "      <td>0</td>\n",
       "      <td>0</td>\n",
       "      <td>0</td>\n",
       "      <td>0</td>\n",
       "      <td>0</td>\n",
       "      <td>0</td>\n",
       "    </tr>\n",
       "    <tr>\n",
       "      <th>1424</th>\n",
       "      <td>0</td>\n",
       "      <td>0</td>\n",
       "      <td>0</td>\n",
       "      <td>0</td>\n",
       "      <td>0</td>\n",
       "      <td>0</td>\n",
       "      <td>0</td>\n",
       "      <td>0</td>\n",
       "      <td>0</td>\n",
       "      <td>0</td>\n",
       "      <td>...</td>\n",
       "      <td>0</td>\n",
       "      <td>0</td>\n",
       "      <td>0</td>\n",
       "      <td>0</td>\n",
       "      <td>0</td>\n",
       "      <td>0</td>\n",
       "      <td>0</td>\n",
       "      <td>0</td>\n",
       "      <td>0</td>\n",
       "      <td>0</td>\n",
       "    </tr>\n",
       "    <tr>\n",
       "      <th>1425</th>\n",
       "      <td>0</td>\n",
       "      <td>0</td>\n",
       "      <td>0</td>\n",
       "      <td>0</td>\n",
       "      <td>0</td>\n",
       "      <td>0</td>\n",
       "      <td>0</td>\n",
       "      <td>0</td>\n",
       "      <td>0</td>\n",
       "      <td>0</td>\n",
       "      <td>...</td>\n",
       "      <td>0</td>\n",
       "      <td>0</td>\n",
       "      <td>0</td>\n",
       "      <td>0</td>\n",
       "      <td>0</td>\n",
       "      <td>0</td>\n",
       "      <td>0</td>\n",
       "      <td>0</td>\n",
       "      <td>0</td>\n",
       "      <td>0</td>\n",
       "    </tr>\n",
       "    <tr>\n",
       "      <th>1426</th>\n",
       "      <td>0</td>\n",
       "      <td>0</td>\n",
       "      <td>0</td>\n",
       "      <td>0</td>\n",
       "      <td>0</td>\n",
       "      <td>0</td>\n",
       "      <td>0</td>\n",
       "      <td>0</td>\n",
       "      <td>0</td>\n",
       "      <td>0</td>\n",
       "      <td>...</td>\n",
       "      <td>0</td>\n",
       "      <td>0</td>\n",
       "      <td>0</td>\n",
       "      <td>0</td>\n",
       "      <td>0</td>\n",
       "      <td>0</td>\n",
       "      <td>0</td>\n",
       "      <td>0</td>\n",
       "      <td>0</td>\n",
       "      <td>0</td>\n",
       "    </tr>\n",
       "  </tbody>\n",
       "</table>\n",
       "<p>1427 rows × 176 columns</p>\n",
       "</div>"
      ],
      "text/plain": [
       "      location_Airdrie  location_Alderley Park  location_Altrincham  \\\n",
       "0                    0                       0                    0   \n",
       "1                    0                       0                    0   \n",
       "2                    0                       0                    0   \n",
       "3                    0                       0                    0   \n",
       "4                    0                       0                    0   \n",
       "...                ...                     ...                  ...   \n",
       "1422                 0                       0                    0   \n",
       "1423                 0                       0                    0   \n",
       "1424                 0                       0                    0   \n",
       "1425                 0                       0                    0   \n",
       "1426                 0                       0                    0   \n",
       "\n",
       "      location_Andover  location_Arundel  location_Avonmouth  \\\n",
       "0                    0                 0                   0   \n",
       "1                    0                 0                   0   \n",
       "2                    0                 0                   0   \n",
       "3                    0                 0                   0   \n",
       "4                    0                 0                   0   \n",
       "...                ...               ...                 ...   \n",
       "1422                 0                 0                   0   \n",
       "1423                 0                 0                   0   \n",
       "1424                 0                 0                   0   \n",
       "1425                 0                 0                   0   \n",
       "1426                 0                 0                   0   \n",
       "\n",
       "      location_Babraham  location_Bath  location_Bedford  location_Birkenhead  \\\n",
       "0                     0              0                 0                    0   \n",
       "1                     0              0                 0                    0   \n",
       "2                     0              0                 0                    0   \n",
       "3                     0              0                 0                    0   \n",
       "4                     0              0                 0                    0   \n",
       "...                 ...            ...               ...                  ...   \n",
       "1422                  0              0                 0                    0   \n",
       "1423                  0              0                 0                    0   \n",
       "1424                  0              0                 0                    0   \n",
       "1425                  0              0                 0                    0   \n",
       "1426                  0              0                 0                    0   \n",
       "\n",
       "      ...  location_Winsford  location_Wirral  location_Woking  \\\n",
       "0     ...                  0                0                0   \n",
       "1     ...                  0                0                0   \n",
       "2     ...                  0                0                0   \n",
       "3     ...                  0                0                0   \n",
       "4     ...                  0                0                0   \n",
       "...   ...                ...              ...              ...   \n",
       "1422  ...                  0                0                0   \n",
       "1423  ...                  0                0                0   \n",
       "1424  ...                  0                0                0   \n",
       "1425  ...                  0                0                0   \n",
       "1426  ...                  0                0                0   \n",
       "\n",
       "      location_Wolverhampton  location_Worcester  location_Worthing  \\\n",
       "0                          0                   0                  0   \n",
       "1                          0                   0                  0   \n",
       "2                          0                   0                  0   \n",
       "3                          0                   0                  0   \n",
       "4                          0                   0                  0   \n",
       "...                      ...                 ...                ...   \n",
       "1422                       0                   0                  0   \n",
       "1423                       0                   0                  0   \n",
       "1424                       0                   0                  0   \n",
       "1425                       0                   0                  0   \n",
       "1426                       0                   0                  0   \n",
       "\n",
       "      location_Wrexham  location_Wrington  location_Wythenshawe  location_nan  \n",
       "0                    0                  0                     0             0  \n",
       "1                    0                  0                     0             0  \n",
       "2                    0                  0                     0             0  \n",
       "3                    0                  0                     0             0  \n",
       "4                    0                  0                     0             0  \n",
       "...                ...                ...                   ...           ...  \n",
       "1422                 0                  0                     0             0  \n",
       "1423                 0                  0                     0             0  \n",
       "1424                 0                  0                     0             0  \n",
       "1425                 0                  0                     0             0  \n",
       "1426                 0                  0                     0             0  \n",
       "\n",
       "[1427 rows x 176 columns]"
      ]
     },
     "execution_count": 48,
     "metadata": {},
     "output_type": "execute_result"
    }
   ],
   "source": [
    "## YOUR CODE HERE\n",
    "\n",
    "y_data = data['high_low_salary']\n",
    "y_data\n",
    "\n",
    "x_data = data[[x for x in data.columns if 'location' in x]]\n",
    "x_data"
   ]
  },
  {
   "cell_type": "markdown",
   "metadata": {
    "focus": false,
    "id": "a7afb2c0-d41e-4779-8216-91cd8dd4473f"
   },
   "source": [
    "#### Thought experiment: What is the baseline accuracy for this model?"
   ]
  },
  {
   "cell_type": "code",
   "execution_count": 49,
   "metadata": {
    "focus": false,
    "id": "87a17d3d-b7f4-4747-9f75-f9af1d18a174"
   },
   "outputs": [
    {
     "data": {
      "text/plain": [
       "0.7582340574632095"
      ]
     },
     "execution_count": 49,
     "metadata": {},
     "output_type": "execute_result"
    }
   ],
   "source": [
    "## YOUR CODE HERE\n",
    "data['high_low_salary'].value_counts(normalize = True).max()"
   ]
  },
  {
   "cell_type": "code",
   "execution_count": 50,
   "metadata": {},
   "outputs": [],
   "source": [
    "#TRAIN TEST SPLIT\n",
    "\n",
    "from sklearn.model_selection import train_test_split\n",
    "\n",
    "x_train, x_test, y_train, y_test = train_test_split(x_data, y_data, test_size = 0.2, random_state = 1, stratify=y_data )"
   ]
  },
  {
   "cell_type": "code",
   "execution_count": 51,
   "metadata": {},
   "outputs": [],
   "source": [
    "#standardise\n",
    "\n",
    "from sklearn.preprocessing import StandardScaler\n",
    "\n",
    "SCALE = StandardScaler()\n",
    "\n",
    "x_train_std = SCALE.fit_transform(x_train)\n",
    "x_test_std = SCALE.transform(x_test)"
   ]
  },
  {
   "cell_type": "code",
   "execution_count": null,
   "metadata": {},
   "outputs": [],
   "source": [
    "from sklearn.tree import DecisionTreeClassifier\n",
    "from sklearn.model_selection import GridSearchCV\n",
    "tree = DecisionTreeClassifier()\n",
    "\n",
    "tree_params = {'ccp_alpha': np.logspace(-5,5,10),\n",
    " \n",
    " 'criterion': ['gini','entropy'],\n",
    " 'max_depth': [x for x in range(3,10)],\n",
    " \n",
    " 'max_features': np.linspace(0.1,1,10),\n",
    " 'splitter': ['best', 'random']}\n",
    "\n",
    "tree_grid = GridSearchCV(tree, tree_params, \n",
    "                         cv = 5,\n",
    "                         n_jobs = 2,\n",
    "                         error_score = 0.0,\n",
    "                         verbose = 1)\n",
    "\n",
    "\n"
   ]
  },
  {
   "cell_type": "code",
   "execution_count": 53,
   "metadata": {},
   "outputs": [
    {
     "data": {
      "text/plain": [
       "{'base_estimator__ccp_alpha': 0.0,\n",
       " 'base_estimator__class_weight': None,\n",
       " 'base_estimator__criterion': 'gini',\n",
       " 'base_estimator__max_depth': None,\n",
       " 'base_estimator__max_features': None,\n",
       " 'base_estimator__max_leaf_nodes': None,\n",
       " 'base_estimator__min_impurity_decrease': 0.0,\n",
       " 'base_estimator__min_impurity_split': None,\n",
       " 'base_estimator__min_samples_leaf': 1,\n",
       " 'base_estimator__min_samples_split': 2,\n",
       " 'base_estimator__min_weight_fraction_leaf': 0.0,\n",
       " 'base_estimator__random_state': None,\n",
       " 'base_estimator__splitter': 'best',\n",
       " 'base_estimator': DecisionTreeClassifier(),\n",
       " 'bootstrap': True,\n",
       " 'bootstrap_features': False,\n",
       " 'max_features': 1.0,\n",
       " 'max_samples': 1.0,\n",
       " 'n_estimators': 10,\n",
       " 'n_jobs': None,\n",
       " 'oob_score': False,\n",
       " 'random_state': None,\n",
       " 'verbose': 0,\n",
       " 'warm_start': False}"
      ]
     },
     "execution_count": 53,
     "metadata": {},
     "output_type": "execute_result"
    }
   ],
   "source": [
    "from sklearn.ensemble import BaggingClassifier , RandomForestClassifier\n",
    "\n",
    "bag = BaggingClassifier(DecisionTreeClassifier())\n",
    "\n",
    "bag.get_params()"
   ]
  },
  {
   "cell_type": "code",
   "execution_count": 54,
   "metadata": {},
   "outputs": [],
   "source": [
    "params = {'base_estimator__ccp_alpha': np.logspace(-5,5,5),\n",
    " 'base_estimator__criterion': ['gini','entropy'],\n",
    " 'base_estimator__max_depth': [x for x in range(3,15)],\n",
    "\n",
    " 'max_features': [0.3,0.5,0.7,1.0],\n",
    " 'max_samples': [0.3,0.5,0.7,1.0],\n",
    " 'n_estimators': [x for x in range(10,100,20)],\n",
    " 'oob_score': [True],\n",
    "}\n",
    "\n",
    "\n",
    "\n",
    "bag_grid = GridSearchCV(bag, params,\n",
    "                       n_jobs = 2,\n",
    "                       verbose = 1,\n",
    "                       error_score = 0.0,\n",
    "                       cv = 5)"
   ]
  },
  {
   "cell_type": "code",
   "execution_count": 55,
   "metadata": {},
   "outputs": [
    {
     "data": {
      "text/plain": [
       "{'bootstrap': True,\n",
       " 'ccp_alpha': 0.0,\n",
       " 'class_weight': None,\n",
       " 'criterion': 'gini',\n",
       " 'max_depth': None,\n",
       " 'max_features': 'auto',\n",
       " 'max_leaf_nodes': None,\n",
       " 'max_samples': None,\n",
       " 'min_impurity_decrease': 0.0,\n",
       " 'min_impurity_split': None,\n",
       " 'min_samples_leaf': 1,\n",
       " 'min_samples_split': 2,\n",
       " 'min_weight_fraction_leaf': 0.0,\n",
       " 'n_estimators': 100,\n",
       " 'n_jobs': None,\n",
       " 'oob_score': False,\n",
       " 'random_state': None,\n",
       " 'verbose': 0,\n",
       " 'warm_start': False}"
      ]
     },
     "execution_count": 55,
     "metadata": {},
     "output_type": "execute_result"
    }
   ],
   "source": [
    "forest = RandomForestClassifier()\n",
    "\n",
    "forest.get_params()"
   ]
  },
  {
   "cell_type": "code",
   "execution_count": null,
   "metadata": {},
   "outputs": [],
   "source": [
    "params = {'ccp_alpha': np.logspace(-5,5,5),\n",
    " \n",
    " 'criterion': ['gini','entropy'],\n",
    " 'max_depth': [x for x in range(3,8)],\n",
    "\n",
    " 'max_features': [0.1,0.5,0.9,1.0],\n",
    " 'max_samples': [0.1,0.5,0.9,1.0],\n",
    " 'n_estimators': [x for x in range(10,100,20)],\n",
    " 'oob_score': [True],\n",
    "}\n",
    "\n",
    "\n",
    "\n",
    "forest_grid = GridSearchCV(forest, params,\n",
    "                       n_jobs = 2,\n",
    "                       verbose = 1,\n",
    "                       error_score = 0.0,\n",
    "                       cv = 5)"
   ]
  },
  {
   "cell_type": "code",
   "execution_count": null,
   "metadata": {},
   "outputs": [],
   "source": []
  },
  {
   "cell_type": "code",
   "execution_count": 57,
   "metadata": {},
   "outputs": [
    {
     "data": {
      "text/plain": [
       "{'estimators': [('lrg', LogisticRegression()),\n",
       "  ('knn', KNeighborsClassifier()),\n",
       "  ('dtr', DecisionTreeClassifier())],\n",
       " 'flatten_transform': True,\n",
       " 'n_jobs': None,\n",
       " 'verbose': False,\n",
       " 'voting': 'hard',\n",
       " 'weights': None,\n",
       " 'lrg': LogisticRegression(),\n",
       " 'knn': KNeighborsClassifier(),\n",
       " 'dtr': DecisionTreeClassifier(),\n",
       " 'lrg__C': 1.0,\n",
       " 'lrg__class_weight': None,\n",
       " 'lrg__dual': False,\n",
       " 'lrg__fit_intercept': True,\n",
       " 'lrg__intercept_scaling': 1,\n",
       " 'lrg__l1_ratio': None,\n",
       " 'lrg__max_iter': 100,\n",
       " 'lrg__multi_class': 'auto',\n",
       " 'lrg__n_jobs': None,\n",
       " 'lrg__penalty': 'l2',\n",
       " 'lrg__random_state': None,\n",
       " 'lrg__solver': 'lbfgs',\n",
       " 'lrg__tol': 0.0001,\n",
       " 'lrg__verbose': 0,\n",
       " 'lrg__warm_start': False,\n",
       " 'knn__algorithm': 'auto',\n",
       " 'knn__leaf_size': 30,\n",
       " 'knn__metric': 'minkowski',\n",
       " 'knn__metric_params': None,\n",
       " 'knn__n_jobs': None,\n",
       " 'knn__n_neighbors': 5,\n",
       " 'knn__p': 2,\n",
       " 'knn__weights': 'uniform',\n",
       " 'dtr__ccp_alpha': 0.0,\n",
       " 'dtr__class_weight': None,\n",
       " 'dtr__criterion': 'gini',\n",
       " 'dtr__max_depth': None,\n",
       " 'dtr__max_features': None,\n",
       " 'dtr__max_leaf_nodes': None,\n",
       " 'dtr__min_impurity_decrease': 0.0,\n",
       " 'dtr__min_impurity_split': None,\n",
       " 'dtr__min_samples_leaf': 1,\n",
       " 'dtr__min_samples_split': 2,\n",
       " 'dtr__min_weight_fraction_leaf': 0.0,\n",
       " 'dtr__random_state': None,\n",
       " 'dtr__splitter': 'best'}"
      ]
     },
     "execution_count": 57,
     "metadata": {},
     "output_type": "execute_result"
    }
   ],
   "source": [
    "from sklearn.linear_model import LogisticRegression\n",
    "from sklearn.ensemble import VotingClassifier\n",
    "from sklearn.neighbors import KNeighborsClassifier\n",
    "\n",
    "vote = VotingClassifier(estimators = [('lrg', LogisticRegression()),('knn', KNeighborsClassifier()), ('dtr', DecisionTreeClassifier())])\n",
    "\n",
    "vote.get_params()"
   ]
  },
  {
   "cell_type": "code",
   "execution_count": 58,
   "metadata": {},
   "outputs": [],
   "source": [
    "vote_params = {'knn__metric': ['manhatten', 'euclidean'],\n",
    "              'dtr__criterion': ['gini'],\n",
    " 'dtr__max_depth':[x for x in range(2,12)],\n",
    "              'knn__n_neighbors': [x for x in range(3,15)],\n",
    "              'voting': ['hard','soft'],\n",
    "              'lrg__C': np.logspace(-5,5,5),\n",
    "              'lrg__penalty': ['l2', 'l1']}\n",
    "\n",
    "vote_grid = GridSearchCV(vote,vote_params,\n",
    "                        n_jobs = 2,\n",
    "                       verbose = 1,\n",
    "                       error_score = 0.0,\n",
    "                       cv = 5)"
   ]
  },
  {
   "cell_type": "code",
   "execution_count": null,
   "metadata": {},
   "outputs": [],
   "source": []
  },
  {
   "cell_type": "code",
   "execution_count": 59,
   "metadata": {},
   "outputs": [],
   "source": [
    "## YOUR CODE HERE\n",
    "from sklearn.model_selection import GridSearchCV\n",
    "from sklearn.linear_model import LogisticRegression\n",
    "lr_params = {\n",
    "    'penalty':['l1','l2'],\n",
    "    'solver':['liblinear', 'saga', 'sag', 'lbfgs', 'newton-cg'],\n",
    "    'C': np.logspace(-5,5,20)\n",
    "}\n",
    "\n",
    "lr_grid = GridSearchCV(LogisticRegression(),\n",
    "                       lr_params, \n",
    "                       error_score = 0.0,\n",
    "                      n_jobs = 2,\n",
    "                      cv = 5,\n",
    "                      verbose = 1)\n",
    "\n"
   ]
  },
  {
   "cell_type": "code",
   "execution_count": 60,
   "metadata": {},
   "outputs": [
    {
     "name": "stdout",
     "output_type": "stream",
     "text": [
      "Fitting 5 folds for each of 2000 candidates, totalling 10000 fits\n"
     ]
    },
    {
     "data": {
      "text/plain": [
       "GridSearchCV(cv=5, error_score=0.0, estimator=LogisticRegression(), n_jobs=2,\n",
       "             param_grid={'C': array([1.00000000e-05, 3.35981829e-05, 1.12883789e-04, 3.79269019e-04,\n",
       "       1.27427499e-03, 4.28133240e-03, 1.43844989e-02, 4.83293024e-02,\n",
       "       1.62377674e-01, 5.45559478e-01, 1.83298071e+00, 6.15848211e+00,\n",
       "       2.06913808e+01, 6.95192796e+01, 2.33572147e+02, 7.84759970e+02,\n",
       "       2.63665090e+0...3, 2.97635144e+04, 1.00000000e+05]),\n",
       "                         'l1_ratio': array([0.        , 0.05263158, 0.10526316, 0.15789474, 0.21052632,\n",
       "       0.26315789, 0.31578947, 0.36842105, 0.42105263, 0.47368421,\n",
       "       0.52631579, 0.57894737, 0.63157895, 0.68421053, 0.73684211,\n",
       "       0.78947368, 0.84210526, 0.89473684, 0.94736842, 1.        ]),\n",
       "                         'penalty': ['elasticnet'],\n",
       "                         'solver': ['liblinear', 'saga', 'sag', 'lbfgs',\n",
       "                                    'newton-cg']},\n",
       "             verbose=1)"
      ]
     },
     "execution_count": 60,
     "metadata": {},
     "output_type": "execute_result"
    }
   ],
   "source": [
    "elastic_params = {\n",
    "    'penalty':['elasticnet'],\n",
    "    'solver':['liblinear', 'saga', 'sag', 'lbfgs', 'newton-cg'],\n",
    "    'C': np.logspace(-5,5,20),\n",
    "    'l1_ratio':np.linspace(0,1,20)\n",
    "}\n",
    "\n",
    "elastic_grid = GridSearchCV(LogisticRegression(),\n",
    "                       elastic_params, \n",
    "                       error_score = 0.0,\n",
    "                       n_jobs = 2,\n",
    "                       cv = 5,\n",
    "                       verbose = 1)\n",
    "elastic_grid.fit(x_train_std,y_train)"
   ]
  },
  {
   "cell_type": "code",
   "execution_count": 61,
   "metadata": {},
   "outputs": [],
   "source": [
    "#K NEIGHBORS CLASSIFIER\n",
    "\n",
    "from sklearn.neighbors import KNeighborsClassifier\n",
    "\n",
    "model = KNeighborsClassifier()\n",
    "\n",
    "params = {'weights': ['uniform', 'distance'],\n",
    "         'metric': ['manhattan', 'euclidean'],\n",
    "         'n_neighbors': [x for x in range(2,20)]}\n",
    "\n",
    "neigh_grid = GridSearchCV(model, params, \n",
    "                         n_jobs = 2,\n",
    "                         error_score = 0.0,\n",
    "                         verbose = 1,\n",
    "                         cv = 5)\n"
   ]
  },
  {
   "cell_type": "code",
   "execution_count": 62,
   "metadata": {},
   "outputs": [
    {
     "data": {
      "text/plain": [
       "{'cv': 5,\n",
       " 'error_score': 0.0,\n",
       " 'estimator__algorithm': 'auto',\n",
       " 'estimator__leaf_size': 30,\n",
       " 'estimator__metric': 'minkowski',\n",
       " 'estimator__metric_params': None,\n",
       " 'estimator__n_jobs': None,\n",
       " 'estimator__n_neighbors': 5,\n",
       " 'estimator__p': 2,\n",
       " 'estimator__weights': 'uniform',\n",
       " 'estimator': KNeighborsClassifier(),\n",
       " 'n_jobs': 2,\n",
       " 'param_grid': {'weights': ['uniform', 'distance'],\n",
       "  'metric': ['manhattan', 'euclidean'],\n",
       "  'n_neighbors': [2,\n",
       "   3,\n",
       "   4,\n",
       "   5,\n",
       "   6,\n",
       "   7,\n",
       "   8,\n",
       "   9,\n",
       "   10,\n",
       "   11,\n",
       "   12,\n",
       "   13,\n",
       "   14,\n",
       "   15,\n",
       "   16,\n",
       "   17,\n",
       "   18,\n",
       "   19]},\n",
       " 'pre_dispatch': '2*n_jobs',\n",
       " 'refit': True,\n",
       " 'return_train_score': False,\n",
       " 'scoring': None,\n",
       " 'verbose': 1}"
      ]
     },
     "execution_count": 62,
     "metadata": {},
     "output_type": "execute_result"
    }
   ],
   "source": [
    "neigh_grid.get_params()"
   ]
  },
  {
   "cell_type": "code",
   "execution_count": 63,
   "metadata": {},
   "outputs": [
    {
     "data": {
      "text/plain": [
       "{'C': 1.0,\n",
       " 'break_ties': False,\n",
       " 'cache_size': 200,\n",
       " 'class_weight': None,\n",
       " 'coef0': 0.0,\n",
       " 'decision_function_shape': 'ovr',\n",
       " 'degree': 3,\n",
       " 'gamma': 'scale',\n",
       " 'kernel': 'rbf',\n",
       " 'max_iter': -1,\n",
       " 'probability': False,\n",
       " 'random_state': None,\n",
       " 'shrinking': True,\n",
       " 'tol': 0.001,\n",
       " 'verbose': False}"
      ]
     },
     "execution_count": 63,
     "metadata": {},
     "output_type": "execute_result"
    }
   ],
   "source": [
    "from sklearn.svm import SVC\n",
    "\n",
    "support = SVC(kernel = 'rbf')\n",
    "\n",
    "support.get_params()"
   ]
  },
  {
   "cell_type": "code",
   "execution_count": 67,
   "metadata": {},
   "outputs": [
    {
     "data": {
      "text/plain": [
       "SVC()"
      ]
     },
     "execution_count": 67,
     "metadata": {},
     "output_type": "execute_result"
    }
   ],
   "source": [
    "support.fit(x_train_std,y_train)"
   ]
  },
  {
   "cell_type": "code",
   "execution_count": 68,
   "metadata": {},
   "outputs": [],
   "source": [
    "from sklearn.model_selection import cross_val_score\n",
    "from tqdm import tqdm"
   ]
  },
  {
   "cell_type": "code",
   "execution_count": 69,
   "metadata": {},
   "outputs": [
    {
     "name": "stdout",
     "output_type": "stream",
     "text": [
      "Fitting 5 folds for each of 200 candidates, totalling 1000 fits\n",
      "Fitting 5 folds for each of 2000 candidates, totalling 10000 fits\n",
      "Fitting 5 folds for each of 72 candidates, totalling 360 fits\n",
      "Fitting 5 folds for each of 4800 candidates, totalling 24000 fits\n"
     ]
    },
    {
     "name": "stderr",
     "output_type": "stream",
     "text": [
      "/Users/chrismembrey/opt/anaconda3/lib/python3.8/site-packages/joblib/externals/loky/process_executor.py:688: UserWarning: A worker stopped while some jobs were given to the executor. This can be caused by a too short worker timeout or by a memory leak.\n",
      "  warnings.warn(\n"
     ]
    }
   ],
   "source": [
    "model_results = []\n",
    "for x in [lr_grid.fit(x_train_std , y_train), \n",
    "               elastic_grid.fit(x_train_std,y_train), neigh_grid.fit(x_train_std,y_train), \n",
    "               vote_grid.fit(x_train_std,y_train)]:\n",
    "    model_results.append([x.best_score_ , x.best_params_, x.score(x_test_std, y_test)])\n",
    "\n",
    "model_results.append([np.mean(cross_val_score(support, x_train_std,y_train,cv =5)) ,\n",
    "                      'kernel = rbf',support.score(x_test_std,y_test)])"
   ]
  },
  {
   "cell_type": "code",
   "execution_count": 71,
   "metadata": {},
   "outputs": [
    {
     "name": "stdout",
     "output_type": "stream",
     "text": [
      "Fitting 5 folds for each of 80000 candidates, totalling 400000 fits\n",
      "Fitting 5 folds for each of 9600 candidates, totalling 48000 fits\n",
      "Fitting 5 folds for each of 28800 candidates, totalling 144000 fits\n"
     ]
    }
   ],
   "source": [
    "for x in [tree_grid.fit(x_train,y_train), bag_grid.fit(x_train,y_train), \n",
    "               forest_grid.fit(x_train,y_train)]:\n",
    "    model_results.append([x.best_score_ , x.best_params_, x.score(x_test, y_test)])\n"
   ]
  },
  {
   "cell_type": "code",
   "execution_count": 72,
   "metadata": {},
   "outputs": [
    {
     "data": {
      "text/html": [
       "<div>\n",
       "<style scoped>\n",
       "    .dataframe tbody tr th:only-of-type {\n",
       "        vertical-align: middle;\n",
       "    }\n",
       "\n",
       "    .dataframe tbody tr th {\n",
       "        vertical-align: top;\n",
       "    }\n",
       "\n",
       "    .dataframe thead th {\n",
       "        text-align: right;\n",
       "    }\n",
       "</style>\n",
       "<table border=\"1\" class=\"dataframe\">\n",
       "  <thead>\n",
       "    <tr style=\"text-align: right;\">\n",
       "      <th></th>\n",
       "      <th>best score</th>\n",
       "      <th>best parameters</th>\n",
       "      <th>test score</th>\n",
       "    </tr>\n",
       "  </thead>\n",
       "  <tbody>\n",
       "    <tr>\n",
       "      <th>lasso/ridge</th>\n",
       "      <td>0.758109</td>\n",
       "      <td>{'C': 1e-05, 'penalty': 'l1', 'solver': 'libli...</td>\n",
       "      <td>0.758741</td>\n",
       "    </tr>\n",
       "    <tr>\n",
       "      <th>elastic</th>\n",
       "      <td>0.758109</td>\n",
       "      <td>{'C': 1e-05, 'l1_ratio': 0.0, 'penalty': 'elas...</td>\n",
       "      <td>0.758741</td>\n",
       "    </tr>\n",
       "    <tr>\n",
       "      <th>k nearest</th>\n",
       "      <td>0.744074</td>\n",
       "      <td>{'metric': 'euclidean', 'n_neighbors': 12, 'we...</td>\n",
       "      <td>0.748252</td>\n",
       "    </tr>\n",
       "    <tr>\n",
       "      <th>vote classification</th>\n",
       "      <td>0.757232</td>\n",
       "      <td>{'dtr__criterion': 'gini', 'dtr__max_depth': 2...</td>\n",
       "      <td>0.758741</td>\n",
       "    </tr>\n",
       "    <tr>\n",
       "      <th>support vector machine</th>\n",
       "      <td>0.751099</td>\n",
       "      <td>kernel = rbf</td>\n",
       "      <td>0.758741</td>\n",
       "    </tr>\n",
       "    <tr>\n",
       "      <th>decision tree</th>\n",
       "      <td>0.758986</td>\n",
       "      <td>{'ccp_alpha': 1e-05, 'criterion': 'gini', 'max...</td>\n",
       "      <td>0.758741</td>\n",
       "    </tr>\n",
       "    <tr>\n",
       "      <th>bagging decision tree</th>\n",
       "      <td>0.759864</td>\n",
       "      <td>{'base_estimator__ccp_alpha': 0.00316227766016...</td>\n",
       "      <td>0.758741</td>\n",
       "    </tr>\n",
       "    <tr>\n",
       "      <th>random forest</th>\n",
       "      <td>0.760733</td>\n",
       "      <td>{'ccp_alpha': 0.0001291549665014884, 'criterio...</td>\n",
       "      <td>0.758741</td>\n",
       "    </tr>\n",
       "  </tbody>\n",
       "</table>\n",
       "</div>"
      ],
      "text/plain": [
       "                        best score  \\\n",
       "lasso/ridge               0.758109   \n",
       "elastic                   0.758109   \n",
       "k nearest                 0.744074   \n",
       "vote classification       0.757232   \n",
       "support vector machine    0.751099   \n",
       "decision tree             0.758986   \n",
       "bagging decision tree     0.759864   \n",
       "random forest             0.760733   \n",
       "\n",
       "                                                          best parameters  \\\n",
       "lasso/ridge             {'C': 1e-05, 'penalty': 'l1', 'solver': 'libli...   \n",
       "elastic                 {'C': 1e-05, 'l1_ratio': 0.0, 'penalty': 'elas...   \n",
       "k nearest               {'metric': 'euclidean', 'n_neighbors': 12, 'we...   \n",
       "vote classification     {'dtr__criterion': 'gini', 'dtr__max_depth': 2...   \n",
       "support vector machine                                       kernel = rbf   \n",
       "decision tree           {'ccp_alpha': 1e-05, 'criterion': 'gini', 'max...   \n",
       "bagging decision tree   {'base_estimator__ccp_alpha': 0.00316227766016...   \n",
       "random forest           {'ccp_alpha': 0.0001291549665014884, 'criterio...   \n",
       "\n",
       "                        test score  \n",
       "lasso/ridge               0.758741  \n",
       "elastic                   0.758741  \n",
       "k nearest                 0.748252  \n",
       "vote classification       0.758741  \n",
       "support vector machine    0.758741  \n",
       "decision tree             0.758741  \n",
       "bagging decision tree     0.758741  \n",
       "random forest             0.758741  "
      ]
     },
     "execution_count": 72,
     "metadata": {},
     "output_type": "execute_result"
    }
   ],
   "source": [
    "locations_only_no_smote = pd.DataFrame(model_results , index = ['lasso/ridge', 'elastic', 'k nearest',  'vote classification','support vector machine','decision tree', 'bagging decision tree', 'random forest'], columns = ['best score', 'best parameters', 'test score'])\n",
    "locations_only_no_smote"
   ]
  },
  {
   "cell_type": "code",
   "execution_count": 73,
   "metadata": {},
   "outputs": [],
   "source": [
    "locations_only_no_smote.to_csv('results_table_locations_only_no_smote.csv', index = False)"
   ]
  },
  {
   "cell_type": "code",
   "execution_count": 74,
   "metadata": {},
   "outputs": [],
   "source": [
    "#now locations only with smoteN - smote N stands for Synthetic Minority Over-sampling Technique for Nominal data (categorical name labels).\n",
    "\n"
   ]
  },
  {
   "cell_type": "code",
   "execution_count": 75,
   "metadata": {},
   "outputs": [],
   "source": [
    "from imblearn.over_sampling import SMOTEN\n",
    "sm = SMOTEN(random_state=27)\n",
    "x_data, y_data = sm.fit_resample(x_data, y_data)"
   ]
  },
  {
   "cell_type": "code",
   "execution_count": 76,
   "metadata": {},
   "outputs": [
    {
     "data": {
      "text/html": [
       "<div>\n",
       "<style scoped>\n",
       "    .dataframe tbody tr th:only-of-type {\n",
       "        vertical-align: middle;\n",
       "    }\n",
       "\n",
       "    .dataframe tbody tr th {\n",
       "        vertical-align: top;\n",
       "    }\n",
       "\n",
       "    .dataframe thead th {\n",
       "        text-align: right;\n",
       "    }\n",
       "</style>\n",
       "<table border=\"1\" class=\"dataframe\">\n",
       "  <thead>\n",
       "    <tr style=\"text-align: right;\">\n",
       "      <th></th>\n",
       "      <th>location_Airdrie</th>\n",
       "      <th>location_Alderley Park</th>\n",
       "      <th>location_Altrincham</th>\n",
       "      <th>location_Andover</th>\n",
       "      <th>location_Arundel</th>\n",
       "      <th>location_Avonmouth</th>\n",
       "      <th>location_Babraham</th>\n",
       "      <th>location_Bath</th>\n",
       "      <th>location_Bedford</th>\n",
       "      <th>location_Birkenhead</th>\n",
       "      <th>...</th>\n",
       "      <th>location_Winsford</th>\n",
       "      <th>location_Wirral</th>\n",
       "      <th>location_Woking</th>\n",
       "      <th>location_Wolverhampton</th>\n",
       "      <th>location_Worcester</th>\n",
       "      <th>location_Worthing</th>\n",
       "      <th>location_Wrexham</th>\n",
       "      <th>location_Wrington</th>\n",
       "      <th>location_Wythenshawe</th>\n",
       "      <th>location_nan</th>\n",
       "    </tr>\n",
       "  </thead>\n",
       "  <tbody>\n",
       "    <tr>\n",
       "      <th>0</th>\n",
       "      <td>0</td>\n",
       "      <td>0</td>\n",
       "      <td>0</td>\n",
       "      <td>0</td>\n",
       "      <td>0</td>\n",
       "      <td>0</td>\n",
       "      <td>0</td>\n",
       "      <td>0</td>\n",
       "      <td>0</td>\n",
       "      <td>0</td>\n",
       "      <td>...</td>\n",
       "      <td>0</td>\n",
       "      <td>0</td>\n",
       "      <td>0</td>\n",
       "      <td>0</td>\n",
       "      <td>0</td>\n",
       "      <td>0</td>\n",
       "      <td>0</td>\n",
       "      <td>0</td>\n",
       "      <td>0</td>\n",
       "      <td>0</td>\n",
       "    </tr>\n",
       "    <tr>\n",
       "      <th>1</th>\n",
       "      <td>0</td>\n",
       "      <td>0</td>\n",
       "      <td>0</td>\n",
       "      <td>0</td>\n",
       "      <td>0</td>\n",
       "      <td>0</td>\n",
       "      <td>0</td>\n",
       "      <td>0</td>\n",
       "      <td>0</td>\n",
       "      <td>0</td>\n",
       "      <td>...</td>\n",
       "      <td>0</td>\n",
       "      <td>0</td>\n",
       "      <td>0</td>\n",
       "      <td>0</td>\n",
       "      <td>0</td>\n",
       "      <td>0</td>\n",
       "      <td>0</td>\n",
       "      <td>0</td>\n",
       "      <td>0</td>\n",
       "      <td>0</td>\n",
       "    </tr>\n",
       "    <tr>\n",
       "      <th>2</th>\n",
       "      <td>0</td>\n",
       "      <td>0</td>\n",
       "      <td>0</td>\n",
       "      <td>0</td>\n",
       "      <td>0</td>\n",
       "      <td>0</td>\n",
       "      <td>0</td>\n",
       "      <td>0</td>\n",
       "      <td>0</td>\n",
       "      <td>0</td>\n",
       "      <td>...</td>\n",
       "      <td>0</td>\n",
       "      <td>0</td>\n",
       "      <td>0</td>\n",
       "      <td>0</td>\n",
       "      <td>0</td>\n",
       "      <td>0</td>\n",
       "      <td>0</td>\n",
       "      <td>0</td>\n",
       "      <td>0</td>\n",
       "      <td>0</td>\n",
       "    </tr>\n",
       "    <tr>\n",
       "      <th>3</th>\n",
       "      <td>0</td>\n",
       "      <td>0</td>\n",
       "      <td>0</td>\n",
       "      <td>0</td>\n",
       "      <td>0</td>\n",
       "      <td>0</td>\n",
       "      <td>0</td>\n",
       "      <td>0</td>\n",
       "      <td>0</td>\n",
       "      <td>0</td>\n",
       "      <td>...</td>\n",
       "      <td>0</td>\n",
       "      <td>0</td>\n",
       "      <td>0</td>\n",
       "      <td>0</td>\n",
       "      <td>0</td>\n",
       "      <td>0</td>\n",
       "      <td>0</td>\n",
       "      <td>0</td>\n",
       "      <td>0</td>\n",
       "      <td>0</td>\n",
       "    </tr>\n",
       "    <tr>\n",
       "      <th>4</th>\n",
       "      <td>0</td>\n",
       "      <td>0</td>\n",
       "      <td>0</td>\n",
       "      <td>0</td>\n",
       "      <td>0</td>\n",
       "      <td>0</td>\n",
       "      <td>0</td>\n",
       "      <td>0</td>\n",
       "      <td>0</td>\n",
       "      <td>0</td>\n",
       "      <td>...</td>\n",
       "      <td>0</td>\n",
       "      <td>0</td>\n",
       "      <td>0</td>\n",
       "      <td>0</td>\n",
       "      <td>0</td>\n",
       "      <td>0</td>\n",
       "      <td>0</td>\n",
       "      <td>0</td>\n",
       "      <td>0</td>\n",
       "      <td>0</td>\n",
       "    </tr>\n",
       "    <tr>\n",
       "      <th>...</th>\n",
       "      <td>...</td>\n",
       "      <td>...</td>\n",
       "      <td>...</td>\n",
       "      <td>...</td>\n",
       "      <td>...</td>\n",
       "      <td>...</td>\n",
       "      <td>...</td>\n",
       "      <td>...</td>\n",
       "      <td>...</td>\n",
       "      <td>...</td>\n",
       "      <td>...</td>\n",
       "      <td>...</td>\n",
       "      <td>...</td>\n",
       "      <td>...</td>\n",
       "      <td>...</td>\n",
       "      <td>...</td>\n",
       "      <td>...</td>\n",
       "      <td>...</td>\n",
       "      <td>...</td>\n",
       "      <td>...</td>\n",
       "      <td>...</td>\n",
       "    </tr>\n",
       "    <tr>\n",
       "      <th>2159</th>\n",
       "      <td>0</td>\n",
       "      <td>0</td>\n",
       "      <td>0</td>\n",
       "      <td>0</td>\n",
       "      <td>0</td>\n",
       "      <td>0</td>\n",
       "      <td>0</td>\n",
       "      <td>0</td>\n",
       "      <td>0</td>\n",
       "      <td>0</td>\n",
       "      <td>...</td>\n",
       "      <td>0</td>\n",
       "      <td>0</td>\n",
       "      <td>0</td>\n",
       "      <td>0</td>\n",
       "      <td>0</td>\n",
       "      <td>0</td>\n",
       "      <td>0</td>\n",
       "      <td>0</td>\n",
       "      <td>0</td>\n",
       "      <td>0</td>\n",
       "    </tr>\n",
       "    <tr>\n",
       "      <th>2160</th>\n",
       "      <td>0</td>\n",
       "      <td>0</td>\n",
       "      <td>0</td>\n",
       "      <td>0</td>\n",
       "      <td>0</td>\n",
       "      <td>0</td>\n",
       "      <td>0</td>\n",
       "      <td>0</td>\n",
       "      <td>0</td>\n",
       "      <td>0</td>\n",
       "      <td>...</td>\n",
       "      <td>0</td>\n",
       "      <td>0</td>\n",
       "      <td>0</td>\n",
       "      <td>0</td>\n",
       "      <td>0</td>\n",
       "      <td>0</td>\n",
       "      <td>0</td>\n",
       "      <td>0</td>\n",
       "      <td>0</td>\n",
       "      <td>0</td>\n",
       "    </tr>\n",
       "    <tr>\n",
       "      <th>2161</th>\n",
       "      <td>0</td>\n",
       "      <td>0</td>\n",
       "      <td>0</td>\n",
       "      <td>0</td>\n",
       "      <td>0</td>\n",
       "      <td>0</td>\n",
       "      <td>0</td>\n",
       "      <td>0</td>\n",
       "      <td>0</td>\n",
       "      <td>0</td>\n",
       "      <td>...</td>\n",
       "      <td>0</td>\n",
       "      <td>0</td>\n",
       "      <td>0</td>\n",
       "      <td>0</td>\n",
       "      <td>0</td>\n",
       "      <td>0</td>\n",
       "      <td>0</td>\n",
       "      <td>0</td>\n",
       "      <td>0</td>\n",
       "      <td>0</td>\n",
       "    </tr>\n",
       "    <tr>\n",
       "      <th>2162</th>\n",
       "      <td>0</td>\n",
       "      <td>0</td>\n",
       "      <td>0</td>\n",
       "      <td>0</td>\n",
       "      <td>0</td>\n",
       "      <td>0</td>\n",
       "      <td>0</td>\n",
       "      <td>0</td>\n",
       "      <td>0</td>\n",
       "      <td>0</td>\n",
       "      <td>...</td>\n",
       "      <td>0</td>\n",
       "      <td>0</td>\n",
       "      <td>0</td>\n",
       "      <td>0</td>\n",
       "      <td>0</td>\n",
       "      <td>0</td>\n",
       "      <td>0</td>\n",
       "      <td>0</td>\n",
       "      <td>0</td>\n",
       "      <td>0</td>\n",
       "    </tr>\n",
       "    <tr>\n",
       "      <th>2163</th>\n",
       "      <td>0</td>\n",
       "      <td>0</td>\n",
       "      <td>0</td>\n",
       "      <td>0</td>\n",
       "      <td>0</td>\n",
       "      <td>0</td>\n",
       "      <td>0</td>\n",
       "      <td>0</td>\n",
       "      <td>0</td>\n",
       "      <td>0</td>\n",
       "      <td>...</td>\n",
       "      <td>0</td>\n",
       "      <td>0</td>\n",
       "      <td>0</td>\n",
       "      <td>0</td>\n",
       "      <td>0</td>\n",
       "      <td>0</td>\n",
       "      <td>0</td>\n",
       "      <td>0</td>\n",
       "      <td>0</td>\n",
       "      <td>0</td>\n",
       "    </tr>\n",
       "  </tbody>\n",
       "</table>\n",
       "<p>2164 rows × 176 columns</p>\n",
       "</div>"
      ],
      "text/plain": [
       "      location_Airdrie  location_Alderley Park  location_Altrincham  \\\n",
       "0                    0                       0                    0   \n",
       "1                    0                       0                    0   \n",
       "2                    0                       0                    0   \n",
       "3                    0                       0                    0   \n",
       "4                    0                       0                    0   \n",
       "...                ...                     ...                  ...   \n",
       "2159                 0                       0                    0   \n",
       "2160                 0                       0                    0   \n",
       "2161                 0                       0                    0   \n",
       "2162                 0                       0                    0   \n",
       "2163                 0                       0                    0   \n",
       "\n",
       "      location_Andover  location_Arundel  location_Avonmouth  \\\n",
       "0                    0                 0                   0   \n",
       "1                    0                 0                   0   \n",
       "2                    0                 0                   0   \n",
       "3                    0                 0                   0   \n",
       "4                    0                 0                   0   \n",
       "...                ...               ...                 ...   \n",
       "2159                 0                 0                   0   \n",
       "2160                 0                 0                   0   \n",
       "2161                 0                 0                   0   \n",
       "2162                 0                 0                   0   \n",
       "2163                 0                 0                   0   \n",
       "\n",
       "      location_Babraham  location_Bath  location_Bedford  location_Birkenhead  \\\n",
       "0                     0              0                 0                    0   \n",
       "1                     0              0                 0                    0   \n",
       "2                     0              0                 0                    0   \n",
       "3                     0              0                 0                    0   \n",
       "4                     0              0                 0                    0   \n",
       "...                 ...            ...               ...                  ...   \n",
       "2159                  0              0                 0                    0   \n",
       "2160                  0              0                 0                    0   \n",
       "2161                  0              0                 0                    0   \n",
       "2162                  0              0                 0                    0   \n",
       "2163                  0              0                 0                    0   \n",
       "\n",
       "      ...  location_Winsford  location_Wirral  location_Woking  \\\n",
       "0     ...                  0                0                0   \n",
       "1     ...                  0                0                0   \n",
       "2     ...                  0                0                0   \n",
       "3     ...                  0                0                0   \n",
       "4     ...                  0                0                0   \n",
       "...   ...                ...              ...              ...   \n",
       "2159  ...                  0                0                0   \n",
       "2160  ...                  0                0                0   \n",
       "2161  ...                  0                0                0   \n",
       "2162  ...                  0                0                0   \n",
       "2163  ...                  0                0                0   \n",
       "\n",
       "      location_Wolverhampton  location_Worcester  location_Worthing  \\\n",
       "0                          0                   0                  0   \n",
       "1                          0                   0                  0   \n",
       "2                          0                   0                  0   \n",
       "3                          0                   0                  0   \n",
       "4                          0                   0                  0   \n",
       "...                      ...                 ...                ...   \n",
       "2159                       0                   0                  0   \n",
       "2160                       0                   0                  0   \n",
       "2161                       0                   0                  0   \n",
       "2162                       0                   0                  0   \n",
       "2163                       0                   0                  0   \n",
       "\n",
       "      location_Wrexham  location_Wrington  location_Wythenshawe  location_nan  \n",
       "0                    0                  0                     0             0  \n",
       "1                    0                  0                     0             0  \n",
       "2                    0                  0                     0             0  \n",
       "3                    0                  0                     0             0  \n",
       "4                    0                  0                     0             0  \n",
       "...                ...                ...                   ...           ...  \n",
       "2159                 0                  0                     0             0  \n",
       "2160                 0                  0                     0             0  \n",
       "2161                 0                  0                     0             0  \n",
       "2162                 0                  0                     0             0  \n",
       "2163                 0                  0                     0             0  \n",
       "\n",
       "[2164 rows x 176 columns]"
      ]
     },
     "execution_count": 76,
     "metadata": {},
     "output_type": "execute_result"
    }
   ],
   "source": [
    "x_data"
   ]
  },
  {
   "cell_type": "code",
   "execution_count": 77,
   "metadata": {},
   "outputs": [
    {
     "data": {
      "text/plain": [
       "1    0.5\n",
       "0    0.5\n",
       "Name: high_low_salary, dtype: float64"
      ]
     },
     "execution_count": 77,
     "metadata": {},
     "output_type": "execute_result"
    }
   ],
   "source": [
    "y_data.value_counts(normalize = True)"
   ]
  },
  {
   "cell_type": "code",
   "execution_count": 78,
   "metadata": {},
   "outputs": [],
   "source": [
    "from sklearn.model_selection import train_test_split\n",
    "\n",
    "x_train, x_test, y_train, y_test = train_test_split(x_data, y_data, test_size = 0.2, random_state = 1, stratify=y_data )"
   ]
  },
  {
   "cell_type": "code",
   "execution_count": 79,
   "metadata": {},
   "outputs": [],
   "source": [
    "from sklearn.preprocessing import StandardScaler\n",
    "\n",
    "SCALE = StandardScaler()\n",
    "\n",
    "x_train_std = SCALE.fit_transform(x_train)\n",
    "x_test_std = SCALE.transform(x_test)"
   ]
  },
  {
   "cell_type": "code",
   "execution_count": null,
   "metadata": {},
   "outputs": [],
   "source": [
    "tree = DecisionTreeClassifier()\n",
    "\n",
    "tree_params = {'ccp_alpha': np.logspace(-5,5,10),\n",
    " \n",
    " 'criterion': ['gini','entropy'],\n",
    " 'max_depth': [x for x in range(2,8)],\n",
    " 'splitter': ['best', 'random']}\n",
    "\n",
    "tree_grid = GridSearchCV(tree, tree_params, \n",
    "                         cv = 5,\n",
    "                         n_jobs = 2,\n",
    "                         error_score = 0.0,\n",
    "                         verbose = 1)\n",
    "\n",
    "tree_grid.fit(x_train,y_train)\n"
   ]
  },
  {
   "cell_type": "code",
   "execution_count": 81,
   "metadata": {},
   "outputs": [],
   "source": [
    "from sklearn.model_selection import GridSearchCV"
   ]
  },
  {
   "cell_type": "code",
   "execution_count": 84,
   "metadata": {},
   "outputs": [
    {
     "name": "stdout",
     "output_type": "stream",
     "text": [
      "Fitting 5 folds for each of 200 candidates, totalling 1000 fits\n"
     ]
    },
    {
     "name": "stderr",
     "output_type": "stream",
     "text": [
      "/Users/chrismembrey/opt/anaconda3/lib/python3.8/site-packages/joblib/externals/loky/process_executor.py:688: UserWarning: A worker stopped while some jobs were given to the executor. This can be caused by a too short worker timeout or by a memory leak.\n",
      "  warnings.warn(\n"
     ]
    },
    {
     "name": "stdout",
     "output_type": "stream",
     "text": [
      "Fitting 5 folds for each of 2000 candidates, totalling 10000 fits\n",
      "Fitting 5 folds for each of 72 candidates, totalling 360 fits\n",
      "Fitting 5 folds for each of 4800 candidates, totalling 24000 fits\n"
     ]
    },
    {
     "name": "stderr",
     "output_type": "stream",
     "text": [
      "/Users/chrismembrey/opt/anaconda3/lib/python3.8/site-packages/joblib/externals/loky/process_executor.py:688: UserWarning: A worker stopped while some jobs were given to the executor. This can be caused by a too short worker timeout or by a memory leak.\n",
      "  warnings.warn(\n"
     ]
    }
   ],
   "source": [
    "model_results = []\n",
    "for x in [lr_grid.fit(x_train_std , y_train), \n",
    "               elastic_grid.fit(x_train_std,y_train), neigh_grid.fit(x_train_std,y_train), \n",
    "               vote_grid.fit(x_train_std,y_train)]:\n",
    "    model_results.append([x.best_score_ , x.best_params_, x.score(x_test_std, y_test)])\n",
    "\n",
    "model_results.append([np.mean(cross_val_score(support, x_train_std,y_train,cv =5)) ,\n",
    "                      'kernel = rbf',support.score(x_test_std,y_test)])"
   ]
  },
  {
   "cell_type": "code",
   "execution_count": 2,
   "metadata": {},
   "outputs": [],
   "source": [
    "for x in tqdm([tree_grid.fit(x_train,y_train), bag_grid.fit(x_train,y_train), \n",
    "               forest_grid.fit(x_train,y_train)]):\n",
    "    model_results.append([x.best_score_ , x.best_params_, x.score(x_test, y_test)])\n"
   ]
  },
  {
   "cell_type": "code",
   "execution_count": 90,
   "metadata": {},
   "outputs": [
    {
     "data": {
      "text/html": [
       "<div>\n",
       "<style scoped>\n",
       "    .dataframe tbody tr th:only-of-type {\n",
       "        vertical-align: middle;\n",
       "    }\n",
       "\n",
       "    .dataframe tbody tr th {\n",
       "        vertical-align: top;\n",
       "    }\n",
       "\n",
       "    .dataframe thead th {\n",
       "        text-align: right;\n",
       "    }\n",
       "</style>\n",
       "<table border=\"1\" class=\"dataframe\">\n",
       "  <thead>\n",
       "    <tr style=\"text-align: right;\">\n",
       "      <th></th>\n",
       "      <th>best score</th>\n",
       "      <th>best parameters</th>\n",
       "      <th>test score</th>\n",
       "    </tr>\n",
       "  </thead>\n",
       "  <tbody>\n",
       "    <tr>\n",
       "      <th>lasso/ridge</th>\n",
       "      <td>0.647024</td>\n",
       "      <td>{'C': 3.359818286283781e-05, 'penalty': 'l2', ...</td>\n",
       "      <td>0.644342</td>\n",
       "    </tr>\n",
       "    <tr>\n",
       "      <th>elastic</th>\n",
       "      <td>0.657407</td>\n",
       "      <td>{'C': 0.01438449888287663, 'l1_ratio': 0.15789...</td>\n",
       "      <td>0.637413</td>\n",
       "    </tr>\n",
       "    <tr>\n",
       "      <th>k nearest</th>\n",
       "      <td>0.640098</td>\n",
       "      <td>{'metric': 'manhattan', 'n_neighbors': 13, 'we...</td>\n",
       "      <td>0.602771</td>\n",
       "    </tr>\n",
       "    <tr>\n",
       "      <th>vote classification</th>\n",
       "      <td>0.647019</td>\n",
       "      <td>{'dtr__criterion': 'gini', 'dtr__max_depth': 1...</td>\n",
       "      <td>0.637413</td>\n",
       "    </tr>\n",
       "    <tr>\n",
       "      <th>support vector machine</th>\n",
       "      <td>0.689770</td>\n",
       "      <td>kernel = rbf</td>\n",
       "      <td>0.501155</td>\n",
       "    </tr>\n",
       "  </tbody>\n",
       "</table>\n",
       "</div>"
      ],
      "text/plain": [
       "                        best score  \\\n",
       "lasso/ridge               0.647024   \n",
       "elastic                   0.657407   \n",
       "k nearest                 0.640098   \n",
       "vote classification       0.647019   \n",
       "support vector machine    0.689770   \n",
       "\n",
       "                                                          best parameters  \\\n",
       "lasso/ridge             {'C': 3.359818286283781e-05, 'penalty': 'l2', ...   \n",
       "elastic                 {'C': 0.01438449888287663, 'l1_ratio': 0.15789...   \n",
       "k nearest               {'metric': 'manhattan', 'n_neighbors': 13, 'we...   \n",
       "vote classification     {'dtr__criterion': 'gini', 'dtr__max_depth': 1...   \n",
       "support vector machine                                       kernel = rbf   \n",
       "\n",
       "                        test score  \n",
       "lasso/ridge               0.644342  \n",
       "elastic                   0.637413  \n",
       "k nearest                 0.602771  \n",
       "vote classification       0.637413  \n",
       "support vector machine    0.501155  "
      ]
     },
     "execution_count": 90,
     "metadata": {},
     "output_type": "execute_result"
    }
   ],
   "source": [
    "locations_only_smote = pd.DataFrame(model_results , index = ['lasso/ridge', 'elastic', 'k nearest',  'vote classification','support vector machine'], columns = ['best score', 'best parameters', 'test score'])\n",
    "locations_only_smote\n",
    "\n",
    "# 'decision tree', 'bagging decision tree', 'random forest'"
   ]
  },
  {
   "cell_type": "code",
   "execution_count": null,
   "metadata": {},
   "outputs": [],
   "source": [
    "locations_only_smote.to_csv('results_locations_smote.csv')"
   ]
  },
  {
   "cell_type": "markdown",
   "metadata": {},
   "source": [
    "This model is 66 percent accurate with just location alone"
   ]
  },
  {
   "cell_type": "markdown",
   "metadata": {},
   "source": [
    "<h2> NOW WHAT ABOUT WHEN WE INCORPERATE THE OTHER FEATURES AS WELL AS LOCATION </h2>\n"
   ]
  },
  {
   "cell_type": "code",
   "execution_count": 102,
   "metadata": {},
   "outputs": [
    {
     "data": {
      "text/plain": [
       "0       1\n",
       "1       1\n",
       "2       1\n",
       "3       1\n",
       "4       1\n",
       "       ..\n",
       "1422    0\n",
       "1423    0\n",
       "1424    0\n",
       "1425    0\n",
       "1426    0\n",
       "Name: high_low_salary, Length: 1427, dtype: int64"
      ]
     },
     "execution_count": 102,
     "metadata": {},
     "output_type": "execute_result"
    }
   ],
   "source": [
    "#NO SMOTE\n",
    "x_data = data[[x for x in data.columns if x not in ['title', 'salary', 'company', 'summary', 'high_low_salary']]]\n",
    "x_data\n",
    "\n",
    "y_data = data['high_low_salary']\n",
    "y_data"
   ]
  },
  {
   "cell_type": "code",
   "execution_count": 103,
   "metadata": {},
   "outputs": [],
   "source": [
    "x_train, x_test, y_train, y_test = train_test_split(x_data, y_data, test_size = 0.2, random_state = 1, stratify=y_data )"
   ]
  },
  {
   "cell_type": "code",
   "execution_count": 104,
   "metadata": {},
   "outputs": [],
   "source": [
    "SCALE = StandardScaler()\n",
    "\n",
    "x_train_std = SCALE.fit_transform(x_train)\n",
    "x_test_std = SCALE.transform(x_test)"
   ]
  },
  {
   "cell_type": "code",
   "execution_count": 105,
   "metadata": {},
   "outputs": [
    {
     "name": "stdout",
     "output_type": "stream",
     "text": [
      "Fitting 5 folds for each of 140 candidates, totalling 700 fits\n"
     ]
    },
    {
     "data": {
      "text/plain": [
       "GridSearchCV(cv=5, error_score=0.0, estimator=DecisionTreeClassifier(),\n",
       "             n_jobs=2,\n",
       "             param_grid={'ccp_alpha': array([1.00000000e-05, 1.29154967e-04, 1.66810054e-03, 2.15443469e-02,\n",
       "       2.78255940e-01, 3.59381366e+00, 4.64158883e+01, 5.99484250e+02,\n",
       "       7.74263683e+03, 1.00000000e+05]),\n",
       "                         'criterion': ['gini', 'entropy'],\n",
       "                         'max_depth': [3, 4, 5, 6, 7, 8, 9]},\n",
       "             verbose=1)"
      ]
     },
     "execution_count": 105,
     "metadata": {},
     "output_type": "execute_result"
    }
   ],
   "source": [
    "tree = DecisionTreeClassifier()\n",
    "\n",
    "tree_params = {'ccp_alpha': np.logspace(-5,5,10),\n",
    " \n",
    " 'criterion': ['gini','entropy'],\n",
    " 'max_depth': [x for x in range(3,10)]}\n",
    "\n",
    "tree_grid = GridSearchCV(tree, tree_params, \n",
    "                         cv = 5,\n",
    "                         n_jobs = 2,\n",
    "                         error_score = 0.0,\n",
    "                         verbose = 1)\n",
    "\n",
    "\n",
    "tree_grid.fit(x_train,y_train)"
   ]
  },
  {
   "cell_type": "code",
   "execution_count": 109,
   "metadata": {},
   "outputs": [],
   "source": [
    "#Ada boosting\n",
    "from sklearn.ensemble import AdaBoostClassifier\n",
    "\n",
    "base_estimator = tree_grid.best_estimator_\n",
    "\n",
    "ada_boost = AdaBoostClassifier(base_estimator = base_estimator)\n",
    "ada_params = {'n_estimators':[x for x in range(5,120,30)]}\n",
    "\n",
    "ada_grid = GridSearchCV(ada_boost, ada_params,\n",
    "                       n_jobs = 2,\n",
    "                         error_score = 0.0,\n",
    "                         verbose = 1,\n",
    "                         cv = 5)"
   ]
  },
  {
   "cell_type": "code",
   "execution_count": 110,
   "metadata": {},
   "outputs": [],
   "source": [
    "from sklearn.ensemble import GradientBoostingClassifier\n",
    "\n",
    "base_estimator = tree_grid.best_estimator_\n",
    "\n",
    "grad_boost = GradientBoostingClassifier(criterion = 'mse')\n",
    "\n",
    "grad_params = {'learning_rate' : [0.1,1.0],'n_estimators' : [x for x in range(5,120,30)],\n",
    "               'validation_fraction': [0.5,0.7,0.9],\n",
    "               'n_iter_no_change' : [x for x in range(5,20,5)]\n",
    "                                    }\n",
    "\n",
    "grad_grid = GridSearchCV(grad_boost, grad_params,\n",
    "                       n_jobs = 2,\n",
    "                         error_score = 0.0,\n",
    "                         verbose = 1,\n",
    "                         cv = 5)"
   ]
  },
  {
   "cell_type": "code",
   "execution_count": 111,
   "metadata": {},
   "outputs": [],
   "source": [
    "#use scaled data for svm because scaling can influence the reation of the hyperplane (separation plane)"
   ]
  },
  {
   "cell_type": "code",
   "execution_count": 112,
   "metadata": {},
   "outputs": [
    {
     "data": {
      "text/plain": [
       "SVC()"
      ]
     },
     "execution_count": 112,
     "metadata": {},
     "output_type": "execute_result"
    }
   ],
   "source": [
    "support.fit(x_train_std,y_train)"
   ]
  },
  {
   "cell_type": "code",
   "execution_count": 113,
   "metadata": {},
   "outputs": [
    {
     "name": "stdout",
     "output_type": "stream",
     "text": [
      "Fitting 5 folds for each of 200 candidates, totalling 1000 fits\n",
      "Fitting 5 folds for each of 2000 candidates, totalling 10000 fits\n",
      "Fitting 5 folds for each of 72 candidates, totalling 360 fits\n"
     ]
    },
    {
     "name": "stderr",
     "output_type": "stream",
     "text": [
      "/Users/chrismembrey/opt/anaconda3/lib/python3.8/site-packages/joblib/externals/loky/process_executor.py:688: UserWarning: A worker stopped while some jobs were given to the executor. This can be caused by a too short worker timeout or by a memory leak.\n",
      "  warnings.warn(\n"
     ]
    },
    {
     "name": "stdout",
     "output_type": "stream",
     "text": [
      "Fitting 5 folds for each of 4800 candidates, totalling 24000 fits\n"
     ]
    },
    {
     "name": "stderr",
     "output_type": "stream",
     "text": [
      "/Users/chrismembrey/opt/anaconda3/lib/python3.8/site-packages/joblib/externals/loky/process_executor.py:688: UserWarning: A worker stopped while some jobs were given to the executor. This can be caused by a too short worker timeout or by a memory leak.\n",
      "  warnings.warn(\n"
     ]
    }
   ],
   "source": [
    "model_results = []\n",
    "for x in [lr_grid.fit(x_train_std , y_train), \n",
    "               elastic_grid.fit(x_train_std,y_train), neigh_grid.fit(x_train_std,y_train), \n",
    "               vote_grid.fit(x_train_std,y_train)]:\n",
    "    model_results.append([x.best_score_ , x.best_params_, x.score(x_test_std, y_test)])\n",
    "\n",
    "model_results.append([np.mean(cross_val_score(support, x_train_std,y_train,cv =5)) ,\n",
    "                      'kernel = rbf',support.score(x_test_std,y_test)])\n",
    "\n",
    "\n"
   ]
  },
  {
   "cell_type": "code",
   "execution_count": 1,
   "metadata": {
    "scrolled": true
   },
   "outputs": [],
   "source": [
    "for model in [tree_grid.fit(x_train,y_train), bag_grid.fit(x_train,y_train),forest_grid.fit(x_train,y_train), ada_grid.fit(x_train,y_train), grad_grid.fit(x_train,y_train)]:\n",
    "    model_results.append([model.best_score_ , model.best_params_, x.score(x_test, y_test)])\n"
   ]
  },
  {
   "cell_type": "code",
   "execution_count": 116,
   "metadata": {},
   "outputs": [
    {
     "data": {
      "text/html": [
       "<div>\n",
       "<style scoped>\n",
       "    .dataframe tbody tr th:only-of-type {\n",
       "        vertical-align: middle;\n",
       "    }\n",
       "\n",
       "    .dataframe tbody tr th {\n",
       "        vertical-align: top;\n",
       "    }\n",
       "\n",
       "    .dataframe thead th {\n",
       "        text-align: right;\n",
       "    }\n",
       "</style>\n",
       "<table border=\"1\" class=\"dataframe\">\n",
       "  <thead>\n",
       "    <tr style=\"text-align: right;\">\n",
       "      <th></th>\n",
       "      <th>best score</th>\n",
       "      <th>best parameters</th>\n",
       "      <th>test score</th>\n",
       "    </tr>\n",
       "  </thead>\n",
       "  <tbody>\n",
       "    <tr>\n",
       "      <th>lasso/ridge</th>\n",
       "      <td>0.804555</td>\n",
       "      <td>{'C': 0.04832930238571752, 'penalty': 'l1', 's...</td>\n",
       "      <td>0.811189</td>\n",
       "    </tr>\n",
       "    <tr>\n",
       "      <th>elastic</th>\n",
       "      <td>0.808940</td>\n",
       "      <td>{'C': 0.01438449888287663, 'l1_ratio': 0.21052...</td>\n",
       "      <td>0.804196</td>\n",
       "    </tr>\n",
       "    <tr>\n",
       "      <th>k nearest</th>\n",
       "      <td>0.806294</td>\n",
       "      <td>{'metric': 'euclidean', 'n_neighbors': 10, 'we...</td>\n",
       "      <td>0.758741</td>\n",
       "    </tr>\n",
       "    <tr>\n",
       "      <th>vote classification</th>\n",
       "      <td>0.815943</td>\n",
       "      <td>{'dtr__criterion': 'gini', 'dtr__max_depth': 7...</td>\n",
       "      <td>0.776224</td>\n",
       "    </tr>\n",
       "    <tr>\n",
       "      <th>support vector machine</th>\n",
       "      <td>0.796683</td>\n",
       "      <td>kernel = rbf</td>\n",
       "      <td>0.786713</td>\n",
       "    </tr>\n",
       "  </tbody>\n",
       "</table>\n",
       "</div>"
      ],
      "text/plain": [
       "                        best score  \\\n",
       "lasso/ridge               0.804555   \n",
       "elastic                   0.808940   \n",
       "k nearest                 0.806294   \n",
       "vote classification       0.815943   \n",
       "support vector machine    0.796683   \n",
       "\n",
       "                                                          best parameters  \\\n",
       "lasso/ridge             {'C': 0.04832930238571752, 'penalty': 'l1', 's...   \n",
       "elastic                 {'C': 0.01438449888287663, 'l1_ratio': 0.21052...   \n",
       "k nearest               {'metric': 'euclidean', 'n_neighbors': 10, 'we...   \n",
       "vote classification     {'dtr__criterion': 'gini', 'dtr__max_depth': 7...   \n",
       "support vector machine                                       kernel = rbf   \n",
       "\n",
       "                        test score  \n",
       "lasso/ridge               0.811189  \n",
       "elastic                   0.804196  \n",
       "k nearest                 0.758741  \n",
       "vote classification       0.776224  \n",
       "support vector machine    0.786713  "
      ]
     },
     "execution_count": 116,
     "metadata": {},
     "output_type": "execute_result"
    }
   ],
   "source": [
    "no_smote = pd.DataFrame(model_results , index = ['lasso/ridge', 'elastic', 'k nearest', 'vote classification','support vector machine'], columns = ['best score', 'best parameters', 'test score'])\n",
    "no_smote"
   ]
  },
  {
   "cell_type": "code",
   "execution_count": 117,
   "metadata": {},
   "outputs": [],
   "source": [
    "no_smote.to_csv('all_variables_no_smote.csv')"
   ]
  },
  {
   "cell_type": "code",
   "execution_count": null,
   "metadata": {},
   "outputs": [],
   "source": []
  },
  {
   "cell_type": "code",
   "execution_count": null,
   "metadata": {},
   "outputs": [],
   "source": []
  },
  {
   "cell_type": "markdown",
   "metadata": {},
   "source": [
    "<b> with SMOTEN for catagorical features only </b>"
   ]
  },
  {
   "cell_type": "code",
   "execution_count": 118,
   "metadata": {},
   "outputs": [],
   "source": [
    "\n",
    "from imblearn.over_sampling import SMOTEN\n",
    "sm = SMOTEN(random_state=27)\n",
    "x_data, y_data = sm.fit_resample(x_data, y_data)"
   ]
  },
  {
   "cell_type": "code",
   "execution_count": 119,
   "metadata": {},
   "outputs": [],
   "source": [
    "x_train, x_test, y_train, y_test = train_test_split(x_data, y_data, test_size = 0.2, random_state = 1, stratify=y_data )"
   ]
  },
  {
   "cell_type": "code",
   "execution_count": 120,
   "metadata": {},
   "outputs": [],
   "source": [
    "SCALE = StandardScaler()\n",
    "\n",
    "x_train_std = SCALE.fit_transform(x_train)\n",
    "x_test_std = SCALE.transform(x_test)"
   ]
  },
  {
   "cell_type": "code",
   "execution_count": 121,
   "metadata": {},
   "outputs": [
    {
     "name": "stdout",
     "output_type": "stream",
     "text": [
      "Fitting 5 folds for each of 280 candidates, totalling 1400 fits\n"
     ]
    },
    {
     "data": {
      "text/plain": [
       "GridSearchCV(cv=5, error_score=0.0, estimator=DecisionTreeClassifier(),\n",
       "             n_jobs=2,\n",
       "             param_grid={'ccp_alpha': array([1.00000000e-05, 1.29154967e-04, 1.66810054e-03, 2.15443469e-02,\n",
       "       2.78255940e-01, 3.59381366e+00, 4.64158883e+01, 5.99484250e+02,\n",
       "       7.74263683e+03, 1.00000000e+05]),\n",
       "                         'criterion': ['gini', 'entropy'],\n",
       "                         'max_depth': [3, 4, 5, 6, 7, 8, 9],\n",
       "                         'splitter': ['best', 'random']},\n",
       "             verbose=1)"
      ]
     },
     "execution_count": 121,
     "metadata": {},
     "output_type": "execute_result"
    }
   ],
   "source": [
    "tree = DecisionTreeClassifier()\n",
    "\n",
    "tree_params = {'ccp_alpha': np.logspace(-5,5,10),\n",
    " 'criterion': ['gini','entropy'],\n",
    " 'max_depth': [x for x in range(3,10)],\n",
    " 'splitter': ['best', 'random']}\n",
    "\n",
    "tree_grid = GridSearchCV(tree, tree_params, \n",
    "                         cv = 5,\n",
    "                         n_jobs = 2,\n",
    "                         error_score = 0.0,\n",
    "                         verbose = 1)\n",
    "\n",
    "\n",
    "tree_grid.fit(x_train,y_train)"
   ]
  },
  {
   "cell_type": "code",
   "execution_count": null,
   "metadata": {},
   "outputs": [],
   "source": []
  },
  {
   "cell_type": "code",
   "execution_count": null,
   "metadata": {},
   "outputs": [],
   "source": []
  },
  {
   "cell_type": "code",
   "execution_count": 126,
   "metadata": {},
   "outputs": [
    {
     "data": {
      "text/plain": [
       "SVC()"
      ]
     },
     "execution_count": 126,
     "metadata": {},
     "output_type": "execute_result"
    }
   ],
   "source": [
    "support.fit(x_train_std,y_train)"
   ]
  },
  {
   "cell_type": "code",
   "execution_count": 156,
   "metadata": {},
   "outputs": [
    {
     "name": "stdout",
     "output_type": "stream",
     "text": [
      "Fitting 5 folds for each of 200 candidates, totalling 1000 fits\n"
     ]
    },
    {
     "name": "stderr",
     "output_type": "stream",
     "text": [
      "/Users/chrismembrey/opt/anaconda3/lib/python3.8/site-packages/joblib/externals/loky/process_executor.py:688: UserWarning: A worker stopped while some jobs were given to the executor. This can be caused by a too short worker timeout or by a memory leak.\n",
      "  warnings.warn(\n"
     ]
    },
    {
     "name": "stdout",
     "output_type": "stream",
     "text": [
      "Fitting 5 folds for each of 2000 candidates, totalling 10000 fits\n",
      "Fitting 5 folds for each of 72 candidates, totalling 360 fits\n"
     ]
    },
    {
     "name": "stderr",
     "output_type": "stream",
     "text": [
      "/Users/chrismembrey/opt/anaconda3/lib/python3.8/site-packages/joblib/externals/loky/process_executor.py:688: UserWarning: A worker stopped while some jobs were given to the executor. This can be caused by a too short worker timeout or by a memory leak.\n",
      "  warnings.warn(\n"
     ]
    },
    {
     "name": "stdout",
     "output_type": "stream",
     "text": [
      "Fitting 5 folds for each of 4800 candidates, totalling 24000 fits\n"
     ]
    },
    {
     "name": "stderr",
     "output_type": "stream",
     "text": [
      "/Users/chrismembrey/opt/anaconda3/lib/python3.8/site-packages/joblib/externals/loky/process_executor.py:688: UserWarning: A worker stopped while some jobs were given to the executor. This can be caused by a too short worker timeout or by a memory leak.\n",
      "  warnings.warn(\n",
      "/Users/chrismembrey/opt/anaconda3/lib/python3.8/site-packages/sklearn/linear_model/_logistic.py:763: ConvergenceWarning: lbfgs failed to converge (status=1):\n",
      "STOP: TOTAL NO. of ITERATIONS REACHED LIMIT.\n",
      "\n",
      "Increase the number of iterations (max_iter) or scale the data as shown in:\n",
      "    https://scikit-learn.org/stable/modules/preprocessing.html\n",
      "Please also refer to the documentation for alternative solver options:\n",
      "    https://scikit-learn.org/stable/modules/linear_model.html#logistic-regression\n",
      "  n_iter_i = _check_optimize_result(\n"
     ]
    }
   ],
   "source": [
    "model_results = []\n",
    "for x in [lr_grid.fit(x_train_std , y_train), \n",
    "               elastic_grid.fit(x_train_std,y_train), neigh_grid.fit(x_train_std,y_train), \n",
    "               vote_grid.fit(x_train_std,y_train)]:\n",
    "    model_results.append([x.best_score_ , x.best_params_, x.score(x_test_std, y_test)])\n",
    "\n",
    "model_results.append([np.mean(cross_val_score(support, x_train_std,y_train,cv =5)) ,\n",
    "                      'kernel = rbf',support.score(x_test_std,y_test)])"
   ]
  },
  {
   "cell_type": "code",
   "execution_count": 168,
   "metadata": {},
   "outputs": [],
   "source": [
    "for model in [tree_grid.fit(x_train,y_train),bag_grid.fit(x_train,y_train),forest_grid.fit(x_train,y_train), ada_grid.fit(x_train,y_train), grad_grid.fit(x_train,y_train)]:\n",
    "    model_results.append([model.best_score_ , model.best_params_, x.score(x_test, y_test)])\n",
    "\n",
    "#bag_grid.fit(x_train,y_train),forest_grid.fit(x_train,y_train), ada_grid.fit(x_train,y_train), grad_grid.fit(x_train,y_train)"
   ]
  },
  {
   "cell_type": "code",
   "execution_count": 132,
   "metadata": {},
   "outputs": [
    {
     "data": {
      "text/html": [
       "<div>\n",
       "<style scoped>\n",
       "    .dataframe tbody tr th:only-of-type {\n",
       "        vertical-align: middle;\n",
       "    }\n",
       "\n",
       "    .dataframe tbody tr th {\n",
       "        vertical-align: top;\n",
       "    }\n",
       "\n",
       "    .dataframe thead th {\n",
       "        text-align: right;\n",
       "    }\n",
       "</style>\n",
       "<table border=\"1\" class=\"dataframe\">\n",
       "  <thead>\n",
       "    <tr style=\"text-align: right;\">\n",
       "      <th></th>\n",
       "      <th>best score</th>\n",
       "      <th>best parameters</th>\n",
       "      <th>test score</th>\n",
       "    </tr>\n",
       "  </thead>\n",
       "  <tbody>\n",
       "    <tr>\n",
       "      <th>lasso/ridge</th>\n",
       "      <td>0.756226</td>\n",
       "      <td>{'C': 0.01438449888287663, 'penalty': 'l2', 's...</td>\n",
       "      <td>0.773672</td>\n",
       "    </tr>\n",
       "    <tr>\n",
       "      <th>elastic</th>\n",
       "      <td>0.756226</td>\n",
       "      <td>{'C': 0.01438449888287663, 'l1_ratio': 0.0, 'p...</td>\n",
       "      <td>0.775982</td>\n",
       "    </tr>\n",
       "    <tr>\n",
       "      <th>k nearest</th>\n",
       "      <td>0.762581</td>\n",
       "      <td>{'metric': 'euclidean', 'n_neighbors': 5, 'wei...</td>\n",
       "      <td>0.759815</td>\n",
       "    </tr>\n",
       "    <tr>\n",
       "      <th>vote classification</th>\n",
       "      <td>0.781055</td>\n",
       "      <td>{'dtr__criterion': 'gini', 'dtr__max_depth': 6...</td>\n",
       "      <td>0.773672</td>\n",
       "    </tr>\n",
       "    <tr>\n",
       "      <th>support vector machine</th>\n",
       "      <td>0.771222</td>\n",
       "      <td>kernel = rbf</td>\n",
       "      <td>0.764434</td>\n",
       "    </tr>\n",
       "    <tr>\n",
       "      <th>decsion tree</th>\n",
       "      <td>0.753897</td>\n",
       "      <td>{'ccp_alpha': 1e-05, 'criterion': 'gini', 'max...</td>\n",
       "      <td>0.669746</td>\n",
       "    </tr>\n",
       "  </tbody>\n",
       "</table>\n",
       "</div>"
      ],
      "text/plain": [
       "                        best score  \\\n",
       "lasso/ridge               0.756226   \n",
       "elastic                   0.756226   \n",
       "k nearest                 0.762581   \n",
       "vote classification       0.781055   \n",
       "support vector machine    0.771222   \n",
       "decsion tree              0.753897   \n",
       "\n",
       "                                                          best parameters  \\\n",
       "lasso/ridge             {'C': 0.01438449888287663, 'penalty': 'l2', 's...   \n",
       "elastic                 {'C': 0.01438449888287663, 'l1_ratio': 0.0, 'p...   \n",
       "k nearest               {'metric': 'euclidean', 'n_neighbors': 5, 'wei...   \n",
       "vote classification     {'dtr__criterion': 'gini', 'dtr__max_depth': 6...   \n",
       "support vector machine                                       kernel = rbf   \n",
       "decsion tree            {'ccp_alpha': 1e-05, 'criterion': 'gini', 'max...   \n",
       "\n",
       "                        test score  \n",
       "lasso/ridge               0.773672  \n",
       "elastic                   0.775982  \n",
       "k nearest                 0.759815  \n",
       "vote classification       0.773672  \n",
       "support vector machine    0.764434  \n",
       "decsion tree              0.669746  "
      ]
     },
     "execution_count": 132,
     "metadata": {},
     "output_type": "execute_result"
    }
   ],
   "source": [
    "smote = pd.DataFrame(model_results , index = ['lasso/ridge', 'elastic', 'k nearest', 'vote classification','support vector machine','decsion tree'], columns = ['best score', 'best parameters', 'test score'])\n",
    "smote\n",
    "\n",
    "# , 'bagging classifier', 'random forest','Ada boosting', 'Gradient Boosting'"
   ]
  },
  {
   "cell_type": "code",
   "execution_count": 133,
   "metadata": {},
   "outputs": [],
   "source": [
    "smote.to_csv('all_variables_with_smote.csv')"
   ]
  },
  {
   "cell_type": "code",
   "execution_count": 238,
   "metadata": {},
   "outputs": [
    {
     "name": "stdout",
     "output_type": "stream",
     "text": [
      "0.7105712048774799\n",
      "0.00044602511609388793\n"
     ]
    }
   ],
   "source": [
    "#lets see what score linear kernel SVC produces and what the feature importances are.\n",
    "\n",
    "linear_support = SVC(kernel = 'linear')\n",
    "\n",
    "linear_support.fit(x_train_std,y_train)\n",
    "\n",
    "scores = cross_val_score(linear_support, x_train_std,y_train,cv = 5)\n",
    "\n",
    "print(np.mean(scores))\n",
    "print(np.var(scores))"
   ]
  },
  {
   "cell_type": "code",
   "execution_count": 241,
   "metadata": {},
   "outputs": [
    {
     "data": {
      "image/png": "[encoded data removed]",
      "text/plain": [
       "<Figure size 432x720 with 2 Axes>"
      ]
     },
     "metadata": {
      "needs_background": "light"
     },
     "output_type": "display_data"
    }
   ],
   "source": [
    "fig, ax = plt.subplots(ncols = 1,nrows = 2 ,figsize = (6,10));\n",
    "fig.tight_layout()\n",
    "pd.DataFrame({'coefs':lr_grid.best_estimator_.coef_[0], 'features': x_data.columns , \n",
    "              'absoloute_values': abs(lr_grid.best_estimator_.coef_[0])}).sort_values(by = 'absoloute_values', \n",
    "                                                                                        ascending = False).head(15).plot(kind = 'barh', x = 'features', y = 'coefs', hatch = '\\\\', color = 'red', \n",
    "                                                                                                                         label = 'linear regression coefficients', ax = ax[0])\n",
    "pd.DataFrame({'coefs':linear_support.coef_[0], 'features': x_data.columns , \n",
    "              'absoloute_values': abs(linear_support.coef_[0])}).sort_values(by = 'absoloute_values', \n",
    "                                                                                        ascending = False).head(15).plot(kind = 'barh', x = 'features', y = 'coefs', color = 'skyblue', \n",
    "                                                                                                                         label = 'linear SVM coefficients', ax = ax[0], alpha = 0.5);\n",
    "ax[0].set_xlabel('Coefficient')\n",
    "ax[1].set_xlabel('Feature Importance')\n",
    "\n",
    "\n",
    "pd.DataFrame({'coefs':tree_grid.best_estimator_.feature_importances_, 'features': x_data.columns , \n",
    "              'absoloute_values': abs(tree_grid.best_estimator_.feature_importances_)}).sort_values(by = 'absoloute_values', \n",
    "                                                                                        ascending = False).head(15).plot(kind = 'barh', x = 'features', y = 'coefs', hatch = '\\\\\\\\', color = 'pink', \n",
    "                                                                                                                        label = 'decision tree importance', ax = ax[1]);\n",
    "\n",
    "ax[0].legend(loc = [1.05,.8]);\n",
    "\n",
    "ax[0].set_title('Which Features have the Highest Importance?', fontsize = 16);"
   ]
  },
  {
   "cell_type": "markdown",
   "metadata": {},
   "source": [
    "The models with greatest generalisation are the k nearest neighbors (weighted on distance which is calculated via a euclidean approach and 5 neighbors) and a support vector machine (radial basis function kernelling). \n",
    "\n",
    "The vote classification model is 28% higher than the baseline, an strong indication that our model works better than if we were to predict the high or low class by chance. Interestingly, the logistic regression model was optimised with an extremely high alpha, indicating that no regularisation incresed cross validated test scores. \n",
    "\n",
    "what we can see from the feature importances and coefficients (from models that can provide these metrics) is that titles containing 'data scientist' and positions that are senior have the greatest influence of high salary. A notable common feature was also having a machine learning specific title, demonstrating the industries necessity for highly skilled machine learning practitioners. It is no surprise that junior roles have a negative coefficient for the logistic regression since thier salaries a typically lower.\n",
    "What is very surprising is the negative effect all locations appear to have on price. Initially this was thought to be due to multicolinearity between the city and the location. A ridge penalty is being utilised here, which doesnt eliminate multicolinearity as effectively as lasso, since lasso coefficients are driven to zero when multicolinearity is present.\n",
    "\n",
    "<i> what the feature importance tells us?</i>:\n",
    "The greater the feature importance, the higher the tree purity while splitting with that feature. Feature importance is the information gain while splitting on that feature, divided by the total information gain from all features.\n",
    "\n",
    "\n",
    "<i> what does the coefficient tell us for logistic regression?</i>:\n",
    "Here the coefficient for a data scientist says that being a data scientist will increase our log odds of having a high salary by 0.45. The odds are then increased for class 1 by 56%. Using this knowledge and assuming no other variables involvement and no intercept, the probability of having a salary above the 75% quartile is increased by 0.35. \n",
    "\n",
    "(Probability = $\\frac{exp(log(odds))}{1+exp(log(odds))}$ )"
   ]
  },
  {
   "cell_type": "markdown",
   "metadata": {
    "focus": false,
    "id": "4fb29de2-5b98-474c-a4ad-5170b72b9aea"
   },
   "source": [
    "# Best Model Evaluation:\n"
   ]
  },
  {
   "cell_type": "markdown",
   "metadata": {},
   "source": [
    "firstly a classification report and confusion matrix for the <b> vote classification </b>. "
   ]
  },
  {
   "cell_type": "code",
   "execution_count": 162,
   "metadata": {},
   "outputs": [
    {
     "name": "stdout",
     "output_type": "stream",
     "text": [
      "              precision    recall  f1-score   support\n",
      "\n",
      "           0       0.79      0.87      0.83       866\n",
      "           1       0.86      0.77      0.81       865\n",
      "\n",
      "    accuracy                           0.82      1731\n",
      "   macro avg       0.82      0.82      0.82      1731\n",
      "weighted avg       0.82      0.82      0.82      1731\n",
      "\n"
     ]
    }
   ],
   "source": [
    "from sklearn.metrics import classification_report\n",
    "\n",
    "print(classification_report(y_train, vote_grid.best_estimator_.predict(x_train_std)))"
   ]
  },
  {
   "cell_type": "code",
   "execution_count": 191,
   "metadata": {},
   "outputs": [
    {
     "name": "stderr",
     "output_type": "stream",
     "text": [
      "/Users/chrismembrey/opt/anaconda3/lib/python3.8/site-packages/sklearn/linear_model/_logistic.py:763: ConvergenceWarning: lbfgs failed to converge (status=1):\n",
      "STOP: TOTAL NO. of ITERATIONS REACHED LIMIT.\n",
      "\n",
      "Increase the number of iterations (max_iter) or scale the data as shown in:\n",
      "    https://scikit-learn.org/stable/modules/preprocessing.html\n",
      "Please also refer to the documentation for alternative solver options:\n",
      "    https://scikit-learn.org/stable/modules/linear_model.html#logistic-regression\n",
      "  n_iter_i = _check_optimize_result(\n"
     ]
    },
    {
     "data": {
      "text/plain": [
       "<sklearn.metrics._plot.confusion_matrix.ConfusionMatrixDisplay at 0x7fd7c85a7160>"
      ]
     },
     "execution_count": 191,
     "metadata": {},
     "output_type": "execute_result"
    },
    {
     "data": {
      "image/png": "[encoded data removed]",
      "text/plain": [
       "<Figure size 432x288 with 2 Axes>"
      ]
     },
     "metadata": {
      "needs_background": "light"
     },
     "output_type": "display_data"
    }
   ],
   "source": [
    "model = vote_grid.best_estimator_\n",
    "model.fit(x_train_std,y_train)\n",
    "from sklearn.metrics import plot_confusion_matrix , plot_roc_curve , plot_precision_recall_curve\n",
    "plot_confusion_matrix(model , x_train_std, y_train, labels = [1,0]);"
   ]
  },
  {
   "cell_type": "markdown",
   "metadata": {},
   "source": [
    "you cannot do the evaluation methods with a hard voting classifier becuase we need probabilities of class predictions.\n",
    "lets see the voting classifier with soft voting.\n"
   ]
  },
  {
   "cell_type": "code",
   "execution_count": 243,
   "metadata": {},
   "outputs": [
    {
     "name": "stderr",
     "output_type": "stream",
     "text": [
      "/Users/chrismembrey/opt/anaconda3/lib/python3.8/site-packages/sklearn/linear_model/_logistic.py:763: ConvergenceWarning: lbfgs failed to converge (status=1):\n",
      "STOP: TOTAL NO. of ITERATIONS REACHED LIMIT.\n",
      "\n",
      "Increase the number of iterations (max_iter) or scale the data as shown in:\n",
      "    https://scikit-learn.org/stable/modules/preprocessing.html\n",
      "Please also refer to the documentation for alternative solver options:\n",
      "    https://scikit-learn.org/stable/modules/linear_model.html#logistic-regression\n",
      "  n_iter_i = _check_optimize_result(\n"
     ]
    },
    {
     "data": {
      "text/plain": [
       "<sklearn.metrics._plot.confusion_matrix.ConfusionMatrixDisplay at 0x7fd7ddeeeb20>"
      ]
     },
     "execution_count": 243,
     "metadata": {},
     "output_type": "execute_result"
    },
    {
     "data": {
      "image/png": "[encoded data removed]",
      "text/plain": [
       "<Figure size 432x288 with 2 Axes>"
      ]
     },
     "metadata": {
      "needs_background": "light"
     },
     "output_type": "display_data"
    }
   ],
   "source": [
    "\n",
    "model = VotingClassifier(estimators=[('lrg', LogisticRegression(C=316.22776601683796)),\n",
    "                             ('knn',\n",
    "                              KNeighborsClassifier(metric='euclidean',\n",
    "                                                   n_neighbors=4)),\n",
    "                             ('dtr', DecisionTreeClassifier(max_depth=6))], voting = 'soft')\n",
    "\n",
    "model.fit(x_train_std,y_train)\n",
    "from sklearn.metrics import plot_confusion_matrix , plot_roc_curve , plot_precision_recall_curve\n",
    "plot_confusion_matrix(model , x_train_std, y_train, labels = [1,0]);"
   ]
  },
  {
   "cell_type": "code",
   "execution_count": 248,
   "metadata": {},
   "outputs": [
    {
     "name": "stdout",
     "output_type": "stream",
     "text": [
      "              precision    recall  f1-score   support\n",
      "\n",
      "           0       0.83      0.85      0.84       866\n",
      "           1       0.84      0.82      0.83       865\n",
      "\n",
      "    accuracy                           0.84      1731\n",
      "   macro avg       0.84      0.84      0.84      1731\n",
      "weighted avg       0.84      0.84      0.84      1731\n",
      "\n"
     ]
    }
   ],
   "source": [
    "print(classification_report(y_train,model.predict(x_train_std)))"
   ]
  },
  {
   "cell_type": "markdown",
   "metadata": {},
   "source": [
    "What we can see is that the soft voting gives us very different results, which are more accurate than the hard voting for both class 0 and class 1!"
   ]
  },
  {
   "cell_type": "code",
   "execution_count": 249,
   "metadata": {},
   "outputs": [
    {
     "data": {
      "text/plain": [
       "[<matplotlib.lines.Line2D at 0x7fd7bc8a93d0>]"
      ]
     },
     "execution_count": 249,
     "metadata": {},
     "output_type": "execute_result"
    },
    {
     "data": {
      "image/png": "[encoded data removed]",
      "text/plain": [
       "<Figure size 432x288 with 1 Axes>"
      ]
     },
     "metadata": {
      "needs_background": "light"
     },
     "output_type": "display_data"
    }
   ],
   "source": [
    "import matplotlib.pyplot as plt\n",
    "plot_roc_curve(model, x_train_std, y_train)\n",
    "plt.plot([0,1],[0,1], 'k--', linewidth = 3, label = 'Threshold line')"
   ]
  },
  {
   "cell_type": "markdown",
   "metadata": {},
   "source": [
    "With an AUC score of 0.91, we can see that our voting classifier is an almost perfect model and is far more efficient at predicting higher salary than our baseline. We know if the model performs at baseline when the area under the curve is 0.5, where, no matter the threshold, the false positive rate and the true positive rate are equal."
   ]
  },
  {
   "cell_type": "code",
   "execution_count": null,
   "metadata": {},
   "outputs": [],
   "source": []
  },
  {
   "cell_type": "code",
   "execution_count": 250,
   "metadata": {},
   "outputs": [
    {
     "data": {
      "text/plain": [
       "[<matplotlib.lines.Line2D at 0x7fd7bd052970>]"
      ]
     },
     "execution_count": 250,
     "metadata": {},
     "output_type": "execute_result"
    },
    {
     "data": {
      "image/png": "[encoded data removed]",
      "text/plain": [
       "<Figure size 432x288 with 1 Axes>"
      ]
     },
     "metadata": {
      "needs_background": "light"
     },
     "output_type": "display_data"
    }
   ],
   "source": [
    "plot_precision_recall_curve(model,x_train_std,y_train)\n",
    "plt.plot([0,1],[0,1], 'k--', linewidth = 3, label = 'Threshold line')"
   ]
  },
  {
   "cell_type": "code",
   "execution_count": null,
   "metadata": {},
   "outputs": [],
   "source": []
  },
  {
   "cell_type": "code",
   "execution_count": null,
   "metadata": {},
   "outputs": [],
   "source": []
  },
  {
   "cell_type": "code",
   "execution_count": 193,
   "metadata": {},
   "outputs": [
    {
     "data": {
      "text/plain": [
       "<sklearn.metrics._plot.confusion_matrix.ConfusionMatrixDisplay at 0x7fd7b8a2a850>"
      ]
     },
     "execution_count": 193,
     "metadata": {},
     "output_type": "execute_result"
    },
    {
     "data": {
      "image/png": "[encoded data removed]",
      "text/plain": [
       "<Figure size 432x288 with 2 Axes>"
      ]
     },
     "metadata": {
      "needs_background": "light"
     },
     "output_type": "display_data"
    }
   ],
   "source": [
    "#support vector machine\n",
    "model = support\n",
    "model.fit(x_train_std,y_train)\n",
    "from sklearn.metrics import plot_confusion_matrix , plot_roc_curve , plot_precision_recall_curve\n",
    "plot_confusion_matrix(model , x_train_std, y_train, labels = [1,0])"
   ]
  },
  {
   "cell_type": "markdown",
   "metadata": {},
   "source": [
    "here we can see that 665 of the observations were correctly predicted as high (true positive), 755 were correctly predicted as low (true negative), 200 were incorrectly predicted as low (false negative) and 111 were incorrectly predicted as high (false positive)."
   ]
  },
  {
   "cell_type": "code",
   "execution_count": 194,
   "metadata": {},
   "outputs": [
    {
     "name": "stdout",
     "output_type": "stream",
     "text": [
      "              precision    recall  f1-score   support\n",
      "\n",
      "           0       0.82      0.76      0.79       866\n",
      "           1       0.78      0.84      0.81       865\n",
      "\n",
      "    accuracy                           0.80      1731\n",
      "   macro avg       0.80      0.80      0.80      1731\n",
      "weighted avg       0.80      0.80      0.80      1731\n",
      "\n"
     ]
    }
   ],
   "source": [
    "print(classification_report(y_train,support.predict(x_train_std)))"
   ]
  },
  {
   "cell_type": "code",
   "execution_count": 195,
   "metadata": {},
   "outputs": [
    {
     "data": {
      "text/plain": [
       "[<matplotlib.lines.Line2D at 0x7fd7df0eb370>]"
      ]
     },
     "execution_count": 195,
     "metadata": {},
     "output_type": "execute_result"
    },
    {
     "data": {
      "image/png": "[encoded data removed]",
      "text/plain": [
       "<Figure size 432x288 with 1 Axes>"
      ]
     },
     "metadata": {
      "needs_background": "light"
     },
     "output_type": "display_data"
    }
   ],
   "source": [
    "import matplotlib.pyplot as plt\n",
    "plot_roc_curve(model, x_train_std, y_train)\n",
    "plt.plot([0,1],[0,1], 'k--', linewidth = 3, label = 'Threshold line')"
   ]
  },
  {
   "cell_type": "code",
   "execution_count": 149,
   "metadata": {
    "scrolled": true
   },
   "outputs": [
    {
     "data": {
      "text/plain": [
       "[<matplotlib.lines.Line2D at 0x7fd7b8ae04f0>]"
      ]
     },
     "execution_count": 149,
     "metadata": {},
     "output_type": "execute_result"
    },
    {
     "data": {
      "image/png": "[encoded data removed]",
      "text/plain": [
       "<Figure size 432x288 with 1 Axes>"
      ]
     },
     "metadata": {
      "needs_background": "light"
     },
     "output_type": "display_data"
    }
   ],
   "source": [
    "plot_precision_recall_curve(model,x_train_std,y_train)\n",
    "plt.plot([0,1],[0,1], 'k--', linewidth = 3, label = 'Threshold line')"
   ]
  },
  {
   "cell_type": "code",
   "execution_count": 198,
   "metadata": {},
   "outputs": [
    {
     "data": {
      "text/plain": [
       "<sklearn.metrics._plot.confusion_matrix.ConfusionMatrixDisplay at 0x7fd7c85a7070>"
      ]
     },
     "execution_count": 198,
     "metadata": {},
     "output_type": "execute_result"
    },
    {
     "data": {
      "image/png": "[encoded data removed]",
      "text/plain": [
       "<Figure size 432x288 with 2 Axes>"
      ]
     },
     "metadata": {
      "needs_background": "light"
     },
     "output_type": "display_data"
    }
   ],
   "source": [
    "#k nearest neighbors\n",
    "model = neigh_grid.best_estimator_\n",
    "model.fit(x_train_std,y_train)\n",
    "from sklearn.metrics import plot_confusion_matrix , plot_roc_curve , plot_precision_recall_curve\n",
    "plot_confusion_matrix(model , x_train_std, y_train, labels = [1,0]);"
   ]
  },
  {
   "cell_type": "code",
   "execution_count": 199,
   "metadata": {},
   "outputs": [
    {
     "name": "stdout",
     "output_type": "stream",
     "text": [
      "              precision    recall  f1-score   support\n",
      "\n",
      "           0       0.82      0.87      0.84       866\n",
      "           1       0.86      0.81      0.83       865\n",
      "\n",
      "    accuracy                           0.84      1731\n",
      "   macro avg       0.84      0.84      0.84      1731\n",
      "weighted avg       0.84      0.84      0.84      1731\n",
      "\n"
     ]
    }
   ],
   "source": [
    "print(classification_report(y_train,model.predict(x_train_std)))"
   ]
  },
  {
   "cell_type": "code",
   "execution_count": 200,
   "metadata": {},
   "outputs": [
    {
     "data": {
      "text/plain": [
       "[<matplotlib.lines.Line2D at 0x7fd7d9c840a0>]"
      ]
     },
     "execution_count": 200,
     "metadata": {},
     "output_type": "execute_result"
    },
    {
     "data": {
      "image/png": "[encoded data removed]",
      "text/plain": [
       "<Figure size 432x288 with 1 Axes>"
      ]
     },
     "metadata": {
      "needs_background": "light"
     },
     "output_type": "display_data"
    }
   ],
   "source": [
    "import matplotlib.pyplot as plt\n",
    "plot_roc_curve(model, x_train_std, y_train)\n",
    "plt.plot([0,1],[0,1], 'k--', linewidth = 3, label = 'Threshold line')"
   ]
  },
  {
   "cell_type": "code",
   "execution_count": 201,
   "metadata": {},
   "outputs": [
    {
     "data": {
      "text/plain": [
       "[<matplotlib.lines.Line2D at 0x7fd7cd591520>]"
      ]
     },
     "execution_count": 201,
     "metadata": {},
     "output_type": "execute_result"
    },
    {
     "data": {
      "image/png": "[encoded data removed]",
      "text/plain": [
       "<Figure size 432x288 with 1 Axes>"
      ]
     },
     "metadata": {
      "needs_background": "light"
     },
     "output_type": "display_data"
    }
   ],
   "source": [
    "plot_precision_recall_curve(model,x_train_std,y_train)\n",
    "plt.plot([0,1],[0,1], 'k--', linewidth = 3, label = 'Threshold line')"
   ]
  },
  {
   "cell_type": "code",
   "execution_count": 202,
   "metadata": {},
   "outputs": [
    {
     "data": {
      "text/plain": [
       "<sklearn.metrics._plot.confusion_matrix.ConfusionMatrixDisplay at 0x7fd7c8283b20>"
      ]
     },
     "execution_count": 202,
     "metadata": {},
     "output_type": "execute_result"
    },
    {
     "data": {
      "image/png": "[encoded data removed]",
      "text/plain": [
       "<Figure size 432x288 with 2 Axes>"
      ]
     },
     "metadata": {
      "needs_background": "light"
     },
     "output_type": "display_data"
    }
   ],
   "source": [
    "#logistic regression\n",
    "model = lr_grid.best_estimator_\n",
    "model.fit(x_train_std,y_train)\n",
    "from sklearn.metrics import plot_confusion_matrix , plot_roc_curve , plot_precision_recall_curve\n",
    "plot_confusion_matrix(model , x_train_std, y_train, labels = [1,0])"
   ]
  },
  {
   "cell_type": "code",
   "execution_count": 203,
   "metadata": {},
   "outputs": [
    {
     "name": "stdout",
     "output_type": "stream",
     "text": [
      "              precision    recall  f1-score   support\n",
      "\n",
      "           0       0.80      0.76      0.78       866\n",
      "           1       0.77      0.81      0.79       865\n",
      "\n",
      "    accuracy                           0.79      1731\n",
      "   macro avg       0.79      0.79      0.79      1731\n",
      "weighted avg       0.79      0.79      0.79      1731\n",
      "\n"
     ]
    }
   ],
   "source": [
    "print(classification_report(y_train,model.predict(x_train_std)))"
   ]
  },
  {
   "cell_type": "code",
   "execution_count": 204,
   "metadata": {},
   "outputs": [
    {
     "data": {
      "text/plain": [
       "[<matplotlib.lines.Line2D at 0x7fd7c285d6d0>]"
      ]
     },
     "execution_count": 204,
     "metadata": {},
     "output_type": "execute_result"
    },
    {
     "data": {
      "image/png": "[encoded data removed]",
      "text/plain": [
       "<Figure size 432x288 with 1 Axes>"
      ]
     },
     "metadata": {
      "needs_background": "light"
     },
     "output_type": "display_data"
    }
   ],
   "source": [
    "plot_roc_curve(model, x_train_std, y_train)\n",
    "plt.plot([0,1],[0,1], 'k--', linewidth = 3, label = 'Threshold line');"
   ]
  },
  {
   "cell_type": "code",
   "execution_count": 205,
   "metadata": {},
   "outputs": [
    {
     "data": {
      "text/plain": [
       "[<matplotlib.lines.Line2D at 0x7fd7c1fff280>]"
      ]
     },
     "execution_count": 205,
     "metadata": {},
     "output_type": "execute_result"
    },
    {
     "data": {
      "image/png": "[encoded data removed]",
      "text/plain": [
       "<Figure size 432x288 with 1 Axes>"
      ]
     },
     "metadata": {
      "needs_background": "light"
     },
     "output_type": "display_data"
    }
   ],
   "source": [
    "plot_precision_recall_curve(model,x_train_std,y_train)\n",
    "plt.plot([0,1],[0,1], 'k--', linewidth = 3, label = 'Threshold line');"
   ]
  },
  {
   "cell_type": "markdown",
   "metadata": {},
   "source": [
    "<b> 'Your boss would rather tell a client incorrectly that they would get a lower salary job than tell a client incorrectly that they would get a high salary job.'</b> - predicting lower salary when it is infact high indicates the boss would prefer a model with a lower false negative (recall) score, rather than a low false positive rate (precision).\n",
    "\n",
    "From the precision-recall curve above we can see a good trade off between high recall and low precision would be at a threshold around 0.70, this threshold is used to decide whether a salary is high or low based on the models probability for each point being class one, which can be seen with the model.predict_proba function. A probability higher than 0.9 will be labelled as 1 in our model. A higher threshold means that if the probability of the salary being class 1 is higher, it is more likely to actually be that class, thus reducing the number of false positives. \n",
    "If the threshold was lower, at say 0.4, then our model is more likely to predict class 1 as the outcome and we will have more false positives.\n",
    "\n",
    "\n",
    "out of the three individual models (k nearest neighbors, logistic regression and support vector machine) we can see that the highest precision score for predicting class 1 is the k nearest neighbors (0.86% accuracy and 88% average precision, according to the roc_auc plot).\n",
    "\n"
   ]
  },
  {
   "cell_type": "markdown",
   "metadata": {},
   "source": [
    "The final model, below, is  scores the model based on the precision (the reduced number of false positives) rather than the recall."
   ]
  },
  {
   "cell_type": "code",
   "execution_count": 152,
   "metadata": {},
   "outputs": [
    {
     "name": "stdout",
     "output_type": "stream",
     "text": [
      "[0.76756757 0.74876847 0.76315789 0.66814159 0.77514793]\n",
      "0.7445566914250501\n"
     ]
    }
   ],
   "source": [
    "cv_scores = cross_val_score(model, x_train_std,y_train, cv=5, scoring='precision')\n",
    "print(cv_scores)\n",
    "print(np.mean(cv_scores))"
   ]
  },
  {
   "cell_type": "code",
   "execution_count": 153,
   "metadata": {
    "scrolled": true
   },
   "outputs": [
    {
     "name": "stdout",
     "output_type": "stream",
     "text": [
      "[0.70769231 0.79166667 0.79661017 0.73684211 0.73255814]\n",
      "0.7530738777297084\n"
     ]
    }
   ],
   "source": [
    "cv_scores = cross_val_score(neigh_grid.best_estimator_, x_train_std,y_train, cv=5, scoring='precision')\n",
    "print(cv_scores)\n",
    "print(np.mean(cv_scores))"
   ]
  },
  {
   "cell_type": "code",
   "execution_count": 197,
   "metadata": {},
   "outputs": [
    {
     "name": "stderr",
     "output_type": "stream",
     "text": [
      "/Users/chrismembrey/opt/anaconda3/lib/python3.8/site-packages/sklearn/linear_model/_logistic.py:763: ConvergenceWarning: lbfgs failed to converge (status=1):\n",
      "STOP: TOTAL NO. of ITERATIONS REACHED LIMIT.\n",
      "\n",
      "Increase the number of iterations (max_iter) or scale the data as shown in:\n",
      "    https://scikit-learn.org/stable/modules/preprocessing.html\n",
      "Please also refer to the documentation for alternative solver options:\n",
      "    https://scikit-learn.org/stable/modules/linear_model.html#logistic-regression\n",
      "  n_iter_i = _check_optimize_result(\n",
      "/Users/chrismembrey/opt/anaconda3/lib/python3.8/site-packages/sklearn/linear_model/_logistic.py:763: ConvergenceWarning: lbfgs failed to converge (status=1):\n",
      "STOP: TOTAL NO. of ITERATIONS REACHED LIMIT.\n",
      "\n",
      "Increase the number of iterations (max_iter) or scale the data as shown in:\n",
      "    https://scikit-learn.org/stable/modules/preprocessing.html\n",
      "Please also refer to the documentation for alternative solver options:\n",
      "    https://scikit-learn.org/stable/modules/linear_model.html#logistic-regression\n",
      "  n_iter_i = _check_optimize_result(\n",
      "/Users/chrismembrey/opt/anaconda3/lib/python3.8/site-packages/sklearn/linear_model/_logistic.py:763: ConvergenceWarning: lbfgs failed to converge (status=1):\n",
      "STOP: TOTAL NO. of ITERATIONS REACHED LIMIT.\n",
      "\n",
      "Increase the number of iterations (max_iter) or scale the data as shown in:\n",
      "    https://scikit-learn.org/stable/modules/preprocessing.html\n",
      "Please also refer to the documentation for alternative solver options:\n",
      "    https://scikit-learn.org/stable/modules/linear_model.html#logistic-regression\n",
      "  n_iter_i = _check_optimize_result(\n",
      "/Users/chrismembrey/opt/anaconda3/lib/python3.8/site-packages/sklearn/linear_model/_logistic.py:763: ConvergenceWarning: lbfgs failed to converge (status=1):\n",
      "STOP: TOTAL NO. of ITERATIONS REACHED LIMIT.\n",
      "\n",
      "Increase the number of iterations (max_iter) or scale the data as shown in:\n",
      "    https://scikit-learn.org/stable/modules/preprocessing.html\n",
      "Please also refer to the documentation for alternative solver options:\n",
      "    https://scikit-learn.org/stable/modules/linear_model.html#logistic-regression\n",
      "  n_iter_i = _check_optimize_result(\n"
     ]
    },
    {
     "name": "stdout",
     "output_type": "stream",
     "text": [
      "[0.75956284 0.79651163 0.80116959 0.77966102 0.77358491]\n",
      "0.7820979965379673\n"
     ]
    },
    {
     "name": "stderr",
     "output_type": "stream",
     "text": [
      "/Users/chrismembrey/opt/anaconda3/lib/python3.8/site-packages/sklearn/linear_model/_logistic.py:763: ConvergenceWarning: lbfgs failed to converge (status=1):\n",
      "STOP: TOTAL NO. of ITERATIONS REACHED LIMIT.\n",
      "\n",
      "Increase the number of iterations (max_iter) or scale the data as shown in:\n",
      "    https://scikit-learn.org/stable/modules/preprocessing.html\n",
      "Please also refer to the documentation for alternative solver options:\n",
      "    https://scikit-learn.org/stable/modules/linear_model.html#logistic-regression\n",
      "  n_iter_i = _check_optimize_result(\n"
     ]
    }
   ],
   "source": [
    "cv_scores = cross_val_score(vote_grid.best_estimator_, x_train_std,y_train, cv=5, scoring='precision')\n",
    "print(cv_scores)\n",
    "print(np.mean(cv_scores))"
   ]
  },
  {
   "cell_type": "markdown",
   "metadata": {},
   "source": [
    "# Executive Summary of results,  written for a non-technical audience.\n"
   ]
  },
  {
   "cell_type": "markdown",
   "metadata": {},
   "source": [
    "<b><u>Point of view</u> -\"You're working as a data scientist for a contracting firm that's rapidly expanding, they need to leverage data to win more contracts. The firm offers technology and scientific solutions and wants to be competitive in the hiring market. \n",
    "    \n",
    "Your manager wants you to determine the industry factors that are most important in predicting the salary amounts for these data.\" </b>\n",
    "\n"
   ]
  },
  {
   "cell_type": "markdown",
   "metadata": {},
   "source": [
    "\n",
    "<b>ABSTRACT</b>\n",
    "\n",
    "The search for a job is highly impacted by the salary that companies post while advertising them. In this study, I have created a hard-voting classification machine learning model that has used scraped data from indeed.com to predict whether a salary will be high or low for data related jobs, such as scientific researchers or data analysts. The model has an accuracy score of 78% when smote was incorperated into the data preprocessing stage, which shows that it is capable of ameliorating prediction of high salary compared to the baseline accuracy (50%). Furthermore, the precision recall curve for the k nearest neighbors (embedded within the vote classifier) has shown an average precision of 88%, indicating that the model will have use for the company whose priority is limiting the number of candidates who are told incorrectly that they will have a high salary, when it will be low in reality.\n",
    "\n",
    "<b> METHOD </b>\n",
    "\n",
    "Firstly, the data was scraped from indeed.com, a popular job postings website containing job cards from townships from across the UK. The job postings that were scraped only contained salaries, such that we could create observations into a structured pandas dataframe for a machie learning (ML) model. Furthermore, these postings have only come from the UK, since our company descretely hires for the UK market. Using the HTTPS uniform resource locator (URL) query string, a for loop was created which iterated through the cities and the start query (the index page of jobs for that particular city). A singular function was used, encompassing a beautifulsoup instance created from the URL, to pull the required information from each job card into a lists of lists that formed the numpy basis for the structured pandas dataframe. The variables extracted from each job card were salary, job title, job location, job summary (the brief summary that can be located on the simple job card) and the searched city in the URL query (the searched city was used becuase many postings didnt contain the location and regularisation in models could eliminate multicolinearity between location and city). A single function was adopted instead of four singlular functions becuase the four functions ran at different speeds, since they were different lengths, manipulating the order of extraction for the variables. The Four functions were merged into one so that they could all run in unison. \n",
    "\n",
    "After the dataset was obtained, the salary column required removal of pound symbols and averaging of the salary ranges placed in the postings. According to prospects.com, data scientists are typically working 45 hours per week, thus the hourly rates were multiplied by 45. Locations were stripped of the postcodes, since the unique postacode holds no predictive value to the dataset (much like a persons name wouldn't be expected to effect their salary).The final cleaning undertaken was to remove whitespace from the columns, to enhance the dataframe readability. \n",
    "\n",
    "Feature engineering was necessary to gain potentially predictive features from the (CORRELATION BETWEEN FEATURES) job titles, such as when jobs have tags that may influence price. One such example is 'junior' or 'senior' in the posting.\n",
    "Categorical varibles were then dummified and the first column was dropped to avoid double counting features. For example, if all location categories were zero, one can assume the category to be the dropped column. The salries were binarized, such that a high salary (above the 75% quartile) was 1 and salaries lower than this threshold were valued as 0.\n",
    "\n",
    "During the preprocessing phase, data pipelines were split between the cleaned data and data that had been altered with a Synthetic Minority Over-sampling Technique (Nominal), which could be incorperated due to the high baseline accuracy of 75.8%. A train test split was then utilised with a test size set to 20% and stratification to ensure equal proportions of the classes to be classified, which will minimize variability in our models. The data were scaled using a standard scaler. This was primarily for the parametric models that directly compare features using coefficients (Logistic Regression in this case). For non parametric models, such as k nearest neighbors and decision trees, the unscaled data were used.\n",
    "\n",
    "<p>During the modelling phase, the primary ML models used were classifiers such logistic regression, k nearest neighbors and decision trees. It's important to note, all models were cross validated on with a grid search that was incorperated to optimise hyperparameters for each model.</p>\n",
    "Although its appearance is with the sigmoid function, the logistic regression is infact a linear model that predicts the log-odds of an event taking place, given the variables supplied to the model. The outputs rage from 0-1, giving the probability of being class 1 (high salary) or class 0. Since there are many variables, the logistic regression model required regularization which can be done with a ridge (least squares/sum of squares approach) or lasso (absoloute squares). Regulariation aims to reduce overfitting of models (increase bias) and reduce variability from low scoring test samples (used from the train test split). In doing so, the coefficient values are minimised and the model's prediction changes less than it would have without the regularization. The other models used at a basic level were K-Nearest Neighbors, a Decision Tree Classifier and a Support Vector Machine\n",
    "<p>A K-Nearest Neighbors model was fitted to the data, aiming to classify the unseen data points based on the classification of thier nearest neighbors, which was calculated by either euclidean (pythagorus theorum) or manhattan distance in a space of dimesions matching the number of predictor variables.</p>\n",
    "A Decision tree classifies our inputs from nodes that ask questions of the variables. The higher up the decision tree, the higher the dissorter of classes that the observations belong to (higher entropy), untill the tree has asked enough questions to totally classify inputs. An example of a question could be 'location_london == True?', splitting on data points that are wither 1 (yes) or 0 (no).\n",
    "<p>Lastly, a Support Vector Machine was incorperated as it deals excellently with binary problems by forming a linear hyperplane between two classes. The kerneling (a transformation of the data to enhance its linear separability) was used with the Radial Basis Function, whih works similarly to a K-Nearest Neighbors, weighting the distance of nearby observations to predict a classification on test data. The closer one point is to another, Radial Basis Function will give those two points a weighting closer to 1. The further two points are in an infinitely large dimenion, the closer to 0 the weighting will be. </p>\n",
    "The metric with which the models were ratified was the accuracy score for both the train and testing samples. Model generalisation was measured by closeness of test and training accuracy and models which had closer scores were weighted higher in the decision processes then models that had higher scores for training or testing. \n",
    "The discussion below will discuss the more complex models and evaluate the top three performing models in context to what to the company is aiming to achieve.\n",
    "\n",
    "<b>DISCUSSION</b>\n",
    "\n",
    "The models with greatest generalisation are the k nearest neighbors (weighted on distance which is calculated via a euclidean approach and 5 neighbors) and a support vector machine (radial basis function kernelling). \n",
    "\n",
    "The vote classification model is 28% higher than the baseline, an strong indication that our model works better than if we were to predict the high or low class by chance. The vote classification model, with hard voting, is a type of ensemble method that takes the predictions of the support vector machine, logistic regression and the k nearest neighbors and chooses an overall prediction for each observation. For example, consider a single observation which had been predicted as class 0 for the logistic regression but class 1 for the other two. In this case the overall model would predict the observation to be class 1 becuase that is the majority vote. \n",
    "Interestingly, the logistic regression model was optimised with an extremely high alpha, indicating that no regularisation increased cross validated test scores. \n",
    "\n",
    "what we can see from the feature importances and coefficients (from models that can provide these metrics) is that titles containing 'data scientist' and positions that are senior have the greatest influence of high salary. A notable common feature was also having a ML specific title, demonstrating the industries necessity for highly skilled machine learning practitioners. It is no surprise that junior roles have a negative coefficient for the logistic regression since thier salaries are typically lower.\n",
    "What is very surprising is the negative effect all locations appear to have on price. Initially this was thought to be due to multicolinearity between the city and the location. A ridge penalty is being utilised here, which doesnt eliminate multicolinearity as effectively as lasso, since lasso coefficients are driven to zero when multicolinearity is present, increasing the datas' background noise.\n",
    "\n",
    "From the precision-recall curves above, we can see a good trade off between low recall and high precision would be at a threshold around 0.70, this threshold is used to decide whether a salary is high or low based on the models' probability for each point being class one, which can be seen with the model.predict_proba function. A probability higher than 0.9 will be labelled as 1 in our model. A higher threshold means that if the probability of the salary being class 1 is higher, it is more likely to actually be that class, thus reducing the number of false positives. \n",
    "If the threshold was lower, at say 0.4, then our model is more likely to predict class 1 as the outcome and we will have more false positives.\n",
    "\n",
    "\n",
    "Out of the three individual models (k nearest neighbors, logistic regression and support vector machine) we can see that the highest precision score for predicting class 1 is the k nearest neighbors (0.86% accuracy and 88% average precision, according to the roc_auc plot). The voting classifier set to soft voting resulted in an AUC score of 0.91. we can see that our voting classifier is an almost perfect model and is far more efficient at predicting higher salary than our baseline.\n",
    "\n",
    "Finally, although the voting classification model successfully reduces the number of fasle positives, it can still be improved significantly. The next steps to improve out model of predicting salary would be to scrape from many more websites such as Glassdoor, Linkedin and Otta. Increasing our salary reach can enlarge our dataset considerably such that we are able represent the population more closely, it also eliminates any bias in our data that may eminate from using one website source. Moreover, much of the data from job postings is locked in the words used to describe them. In a future model I shall consider utilising natural language processing (NLP) to see which words are used more frequently to predict higher salary.\n",
    "\n",
    "\n",
    "<b> CONCLUSION </b>\n",
    "\n",
    "Through voting classification we were able to accurately and precicly predict high salary, avoiding false positives. This limits the number of times we may tell a client they have a high salary, when it will in fact be low. However, all the models still have much improvement before they can be taken to market. This may be achieved through NLP and increasing data source scraping, but will require further analysis. \n",
    "\n",
    "<!-- TALK ABOUT IMPROVEMENT WITH NLP/Using more websites\n",
    "TALK ABUT FEATURE IMPORTANCES BETWEEN MODELS\n",
    "DISCUSS ROC / PRECISION RECALL AND THRESHOLD\n",
    "CLASSIFICATION REPORTS / CONFUSION MATRIX\n",
    " -->\n",
    "\n"
   ]
  },
  {
   "cell_type": "markdown",
   "metadata": {},
   "source": [
    "\n",
    "\n",
    "<h1> Converting the executive summary into a blog post, in which I document my approach in a tutorial for other aspiring data scientists. </h1>"
   ]
  },
  {
   "cell_type": "markdown",
   "metadata": {},
   "source": [
    "Today we are going to be looking at an example of webscraping and data munging. To help me do this we shall look at data related to job posts and thier salaries. \n",
    "\n",
    "One major factor that often sways aspiring data scientists and analysts into the data proffesion is the mouth watering salary. My aim is to find which data related jobs specifically create the highest wealth, looking at location (UK only) and job titles specifically. \n",
    "\n",
    "We're primarily going to need to get some data related to job postings. One very well known website I have chosen is indeed.com which is the number one job website in the world. One tough hurdle when scraping the data was to pull out jobs which had salaries as companys have swayed from giving out salary information straight off the bat. The scraping function I used needed to have a condition to accept jobs with salary only, to free up memory space in the dataframe and to save the time during the scraping procedure:\n",
    "\n",
    "\n",
    "![](image_folder/extraction_function.png)\n",
    "\n",
    "\n",
    "Here, I have used a beautiful soup instance to find the classes and tags that corrspond to the job salary, location, company, title and summary (in my next blog, we will incorperate NLP into the predictions to see if we can improve them!). Often location values are null and so I have added the city that was searched to the list of predictor variables.\n",
    "\n",
    "\n",
    "Below, we can see exactly where we are extracting from in the webpage:\n",
    "\n",
    "\n",
    "![](image_folder/jobcard.png)\n",
    "\n",
    "\n",
    "The jobcard class in our beautiful soup instance find_all() function is exactly the same as the html class in the website, indicated by the cursor."
   ]
  },
  {
   "cell_type": "markdown",
   "metadata": {},
   "source": [
    "\n",
    "                \n",
    "\n",
    "\n",
    "\n",
    "\n",
    "We then need to use this function to query the website and extract the data by looping through the cities and the website index (start query). This was done with the following script:\n",
    "\n",
    "\n",
    "![](image_folder/scraping_loop.png)\n",
    "\n",
    "The soup instance here allows us to see the captcha solve when we are iterating through the loop, giving us a sense of whether our scraper is working. Furthermore, by printing outputs as we go, we can see evidence that our scraper is doing its job. This is critical as not doing so can lead you to waste time waiting for a useless scrape to finish!\n",
    "\n",
    "\n",
    "Its imperitive that we get rid of duplicates, which can come due to overlapping cities or becuase the website has reposted jobs on the pages with high start values. Here, the duplicates were removed, including those duplicates where the city is different:\n",
    "\n",
    "\n",
    "\n",
    "\n",
    "\n",
    "\n",
    "![](image_folder/remove_duplicates.png)\n",
    "\n",
    "\n",
    "\n",
    "\n",
    "We now need our data to be cleaned so that its more presentable, structured and most importantly, useful!\n",
    "The main columns to change were salary and location. The salary was changed with a simple function that returned the average salary in the ranges provided by the website (rangeds are indicated with '-' which is why this character features prominently in the function):\n",
    "\n",
    "\n",
    "![](image_folder/salary_converter.png)\n",
    " \n",
    " \n",
    "with this function, we can use .apply on the salary column to alter the values.\n",
    "\n",
    "\n",
    "\n"
   ]
  },
  {
   "cell_type": "markdown",
   "metadata": {},
   "source": [
    "Next, the locations need to have the postcodes remove, since they have no predictive power. This can be done using the regex library, which studies the characters in words and removes any words that contain numbers:\n",
    "\n",
    "![](image_folder/change_location.png)"
   ]
  },
  {
   "cell_type": "markdown",
   "metadata": {},
   "source": [
    "The words hidden within the job title can tell us a lot about the resposibility of the employee and therefore, thier salary. When you run you're own version of this study, you can choose whichever words you may deem as predictive. Here I have picked key words such as junior, senior and machine learning:\n",
    "\n",
    "![](image_folder/title_features.png)\n",
    "\n",
    "\n",
    "Here is a script that creates a new list and for each data point in the salary column, if the salary is above the 75% quartile, that observation has the label 1. If its lower, its given the label 0. This will be our target variable:\n",
    "\n",
    "![](image_folder/binarize_salary.png)"
   ]
  },
  {
   "cell_type": "markdown",
   "metadata": {},
   "source": [
    "After dummyfying the location and city columns, we should have a dataset that looks something similar to this:\n",
    "\n",
    "![](image_folder/Dataset.png)"
   ]
  },
  {
   "cell_type": "markdown",
   "metadata": {},
   "source": [
    "When preprocessing data, we must split into x (predictors) and y (target). Then the predictor variables need a stratified train-test-split (stratification to ensure equal proportions of classes within the training and test datasets).\n",
    "\n",
    "Then we standardise the variables (specifically necessary is there are continuous variables in your dataset that have different scales!).\n",
    "\n",
    "\n",
    "After this, we are ready to model. I have modelled my data with a k nearest neighbors, decision tree and logistic regression. Since this is a blog about scraping and cleaning, I will skip the explaination of these for now and discuss them in a future blog. What we will go through is the evaluation of a model. My example will be for the logistic regression.\n",
    "\n",
    "The best methods for evaluation in a binary classification problem are the classification report , confusion matrix, ROC-AUC and precision-recall curve, below:\n",
    "\n",
    "\n",
    "![](image_folder/lr_confusion_classification.png)\n",
    "\n",
    "\n",
    "The logistic regression will predict the probability that a class belongs has the value 1 and prescribes an observation with that class if the probability is above the 0.5 threshold. The 0.5 threshold has resulted in 163 false negatives and 206 false positives, indicating that, at the 0.5 threshold, the recall is greater than the precision for this model, which is evidenced in the classification report. The report shows that for class 1, precision is 0.77 and recall is 0.81.\n",
    "\n",
    "Suppose our aim was to avoid tellig someone who will get a low salary, that they will infact have a high salary. We would require fewer false positives. This can be done by increasing the thrshold. Which is what the precision recall curve tells us, below:\n",
    "\n",
    "\n",
    "![](image_folder/precision_recall.png)\n",
    "\n",
    "\n",
    "From the precision-recall curve above we can see a good trade off between high recall and low precision would be at a threshold around 0.70, this threshold is used to decide whether a salary is high or low based on the models probability for each point being class one, which can be seen with the model.predict_proba function. A probability higher than 0.9 will be labelled as 1 in our model. A higher threshold means that if the probability of the salary being class 1 is higher, it is more likely to actually be that class, thus reducing the number of false positives. \n",
    "If the threshold was lower, at say 0.4, then our model is more likely to predict class 1 as the outcome and we will have more false positives.\n",
    "\n",
    "\n",
    "Finally, lets look at the ROC curve:\n",
    "\n",
    "![](image_folder/roc.png)\n",
    "\n",
    "The key metric here is the AUC which is a measure of how well our model classifies a high salary. AUC is prefered over accuracy score becuase the AUC can handle imbalanced datasets.\n",
    "\n",
    "Our AUC here is 88% indicating that our model is a strong predictor of high slaries. However there is still room for improvement. \n",
    "\n",
    "Next time we shall dive into NLP and see if it can help increase our models' accuracy."
   ]
  },
  {
   "cell_type": "code",
   "execution_count": null,
   "metadata": {},
   "outputs": [],
   "source": []
  },
  {
   "cell_type": "code",
   "execution_count": null,
   "metadata": {},
   "outputs": [],
   "source": []
  },
  {
   "cell_type": "code",
   "execution_count": null,
   "metadata": {},
   "outputs": [],
   "source": []
  },
  {
   "cell_type": "code",
   "execution_count": null,
   "metadata": {},
   "outputs": [],
   "source": []
  },
  {
   "cell_type": "code",
   "execution_count": null,
   "metadata": {},
   "outputs": [],
   "source": []
  },
  {
   "cell_type": "markdown",
   "metadata": {},
   "source": [
    "NB - Time permitting, I would have carried out more ensemble methods. On my laptop these were taking too long and I needed to write the report with the models that I could run quickly. "
   ]
  }
 ],
 "metadata": {
  "kernelspec": {
   "display_name": "Python 3",
   "language": "python",
   "name": "python3"
  },
  "language_info": {
   "codemirror_mode": {
    "name": "ipython",
    "version": 3
   },
   "file_extension": ".py",
   "mimetype": "text/x-python",
   "name": "python",
   "nbconvert_exporter": "python",
   "pygments_lexer": "ipython3",
   "version": "3.9.2"
  },
  "toc": {
   "base_numbering": 1,
   "nav_menu": {},
   "number_sections": false,
   "sideBar": true,
   "skip_h1_title": true,
   "title_cell": "Table of Contents",
   "title_sidebar": "Contents",
   "toc_cell": false,
   "toc_position": {},
   "toc_section_display": "block",
   "toc_window_display": false
  }
 },
 "nbformat": 4,
 "nbformat_minor": 1
}
